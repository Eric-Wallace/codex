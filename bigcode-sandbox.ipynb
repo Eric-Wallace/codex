{
 "cells": [
  {
   "cell_type": "code",
   "execution_count": 1,
   "id": "ddc3f9f2",
   "metadata": {},
   "outputs": [],
   "source": [
    "import torch\n",
    "from transformers import AutoTokenizer, AutoModelForCausalLM"
   ]
  },
  {
   "cell_type": "code",
   "execution_count": 2,
   "id": "cdda49d0",
   "metadata": {},
   "outputs": [],
   "source": [
    "# from models import BigCodeModel, add_model_args, add_infilling_args\n",
    "# import argparse\n",
    "# parser = argparse.ArgumentParser()\n",
    "# add_model_args(parser)\n",
    "# add_infilling_args(parser)\n",
    "\n",
    "# args = parser.parse_args([])\n",
    "# model = BigCodeModel(args, \"bigcode/large-model\")"
   ]
  },
  {
   "cell_type": "code",
   "execution_count": 3,
   "id": "d484716b",
   "metadata": {},
   "outputs": [],
   "source": [
    "# model.infill([\"def read_file(filename):\\n   \\\"\\\"\\\"\", \"\\\"\\\"\\\"\\n    with open(filename, 'r') as f:\\n        return f.read()\"], stop_words=None, truncation_parameters=None, temperature=0.8)"
   ]
  },
  {
   "cell_type": "code",
   "execution_count": 4,
   "id": "715c979a",
   "metadata": {},
   "outputs": [],
   "source": [
    "END_OF_TEXT = \"<|endoftext|>\""
   ]
  },
  {
   "cell_type": "code",
   "execution_count": 5,
   "id": "7e0b267b",
   "metadata": {},
   "outputs": [],
   "source": [
    "MODEL_NAME = \"bigcode/large-model\"\n",
    "FIM_PREFIX = \"<fim_prefix>\"\n",
    "FIM_MIDDLE = \"<fim_middle>\"\n",
    "FIM_SUFFIX = \"<fim_suffix>\"\n",
    "FIM_PAD = \"<fim-pad>\""
   ]
  },
  {
   "cell_type": "code",
   "execution_count": 6,
   "id": "9c244c79",
   "metadata": {},
   "outputs": [],
   "source": [
    "MODEL_NAME = \"bigcode/santacoder\"\n",
    "FIM_PREFIX = \"<fim-prefix>\"\n",
    "FIM_MIDDLE = \"<fim-middle>\"\n",
    "FIM_SUFFIX = \"<fim-suffix>\"\n",
    "FIM_PAD = \"<fim-pad>\""
   ]
  },
  {
   "cell_type": "code",
   "execution_count": 7,
   "id": "8b1d6969",
   "metadata": {},
   "outputs": [],
   "source": [
    "SPEC_TOKS = [END_OF_TEXT, FIM_PREFIX, FIM_MIDDLE, FIM_SUFFIX, FIM_PAD]"
   ]
  },
  {
   "cell_type": "code",
   "execution_count": 8,
   "id": "7e92df63",
   "metadata": {},
   "outputs": [
    {
     "name": "stderr",
     "output_type": "stream",
     "text": [
      "Explicitly passing a `revision` is encouraged when loading a configuration with custom code to ensure no malicious code has been contributed in a newer revision.\n",
      "Explicitly passing a `revision` is encouraged when loading a model with custom code to ensure no malicious code has been contributed in a newer revision.\n"
     ]
    }
   ],
   "source": [
    "tokenizer = AutoTokenizer.from_pretrained(MODEL_NAME, padding_side=\"left\")\n",
    "model = AutoModelForCausalLM.from_pretrained(MODEL_NAME, torch_dtype=torch.float16, trust_remote_code=True).cuda()"
   ]
  },
  {
   "cell_type": "code",
   "execution_count": 9,
   "id": "4a837fee",
   "metadata": {},
   "outputs": [
    {
     "data": {
      "text/plain": [
       "0"
      ]
     },
     "execution_count": 9,
     "metadata": {},
     "output_type": "execute_result"
    }
   ],
   "source": [
    "tokenizer.add_special_tokens({\n",
    "    'additional_special_tokens': SPEC_TOKS,\n",
    "    'pad_token': END_OF_TEXT,\n",
    "})"
   ]
  },
  {
   "cell_type": "code",
   "execution_count": 10,
   "id": "b18f440a",
   "metadata": {},
   "outputs": [],
   "source": [
    "def complete(text, **kwargs):\n",
    "    encoded = tokenizer.batch_encode_plus([text], return_tensors=\"pt\")\n",
    "    encoded = encoded.to(torch.device(\"cuda\"))\n",
    "    with torch.inference_mode():\n",
    "        generated = model.generate(**encoded, **kwargs, pad_token_id=tokenizer.pad_token_id)\n",
    "#     print(generated)\n",
    "    for ix in generated.flatten():\n",
    "        print((ix.item(), tokenizer.decode(ix)))\n",
    "    return tokenizer.batch_decode(generated)[0]"
   ]
  },
  {
   "cell_type": "code",
   "execution_count": 11,
   "id": "b321191b",
   "metadata": {},
   "outputs": [],
   "source": [
    "def infill(prefix, suffix, **kwargs):\n",
    "    prompt = f\"{FIM_PREFIX}{prefix}{FIM_SUFFIX}{suffix}{FIM_MIDDLE}\"\n",
    "    text = complete(prompt, **kwargs)\n",
    "    if END_OF_TEXT in text:\n",
    "        text = text.split(END_OF_TEXT)[0]\n",
    "    _, middle = text.split(FIM_MIDDLE)\n",
    "    return middle"
   ]
  },
  {
   "cell_type": "code",
   "execution_count": 12,
   "id": "f3295d0a",
   "metadata": {},
   "outputs": [],
   "source": [
    "prefix = '''def test_invite_too_man_users(self) -> '''\n",
    "suffix = '''\n",
    "    self.login(self.example_email(\"iago\"))'''"
   ]
  },
  {
   "cell_type": "code",
   "execution_count": 13,
   "id": "e26ecd00",
   "metadata": {
    "scrolled": false
   },
   "outputs": [
    {
     "name": "stdout",
     "output_type": "stream",
     "text": [
      "(49153, '<fim-prefix>')\n",
      "(563, 'def')\n",
      "(703, ' test')\n",
      "(62, '_')\n",
      "(18970, 'invite')\n",
      "(62, '_')\n",
      "(15267, 'too')\n",
      "(62, '_')\n",
      "(3165, 'man')\n",
      "(62, '_')\n",
      "(3685, 'users')\n",
      "(7, '(')\n",
      "(314, 'self')\n",
      "(8, ')')\n",
      "(1208, ' ->')\n",
      "(207, ' ')\n",
      "(49155, '<fim-suffix>')\n",
      "(258, '\\n   ')\n",
      "(366, ' self')\n",
      "(13, '.')\n",
      "(3157, 'login')\n",
      "(7, '(')\n",
      "(314, 'self')\n",
      "(13, '.')\n",
      "(1887, 'example')\n",
      "(62, '_')\n",
      "(2490, 'email')\n",
      "(372, '(\"')\n",
      "(3990, 'iag')\n",
      "(78, 'o')\n",
      "(1611, '\"))')\n",
      "(49154, '<fim-middle>')\n",
      "(1138, 'None')\n",
      "(25, ':')\n",
      "(258, '\\n   ')\n",
      "(635, ' \"\"\"')\n",
      "(804, 'Test')\n",
      "(954, ' that')\n",
      "(4852, ' inv')\n",
      "(268, 'it')\n",
      "(291, 'ing')\n",
      "(373, ' a')\n",
      "(931, ' user')\n",
      "(669, ' with')\n",
      "(7833, ' too')\n",
      "(7053, ' many')\n",
      "(8696, ' members')\n",
      "(9502, ' fails')\n",
      "(2364, '.\"\"\"')\n",
      "(258, '\\n   ')\n",
      "(366, ' self')\n",
      "(13, '.')\n",
      "(3157, 'login')\n",
      "(7, '(')\n",
      "(314, 'self')\n",
      "(0, '!')\n",
      "(13, '.')\n",
      "(1887, 'example')\n",
      "(62, '_')\n",
      "(2490, 'email')\n",
      "None:\n",
      "    \"\"\"Test that inviting a user with too many members fails.\"\"\"\n",
      "    self.login(self!.example_email\n"
     ]
    }
   ],
   "source": [
    "print(infill(prefix, suffix, max_new_tokens=28, do_sample=False))"
   ]
  },
  {
   "cell_type": "code",
   "execution_count": 15,
   "id": "3f3cdba1",
   "metadata": {},
   "outputs": [
    {
     "data": {
      "text/plain": [
       "{'bos_token': '<|endoftext|>',\n",
       " 'eos_token': '<|endoftext|>',\n",
       " 'unk_token': '<|endoftext|>',\n",
       " 'pad_token': '<|endoftext|>',\n",
       " 'additional_special_tokens': ['<|endoftext|>',\n",
       "  '<fim-prefix>',\n",
       "  '<fim-middle>',\n",
       "  '<fim-suffix>',\n",
       "  '<fim-pad>']}"
      ]
     },
     "execution_count": 15,
     "metadata": {},
     "output_type": "execute_result"
    }
   ],
   "source": [
    "tokenizer.special_tokens_map"
   ]
  }
 ],
 "metadata": {
  "kernelspec": {
   "display_name": "Python 3 (ipykernel)",
   "language": "python",
   "name": "python3"
  },
  "language_info": {
   "codemirror_mode": {
    "name": "ipython",
    "version": 3
   },
   "file_extension": ".py",
   "mimetype": "text/x-python",
   "name": "python",
   "nbconvert_exporter": "python",
   "pygments_lexer": "ipython3",
   "version": "3.9.15"
  }
 },
 "nbformat": 4,
 "nbformat_minor": 5
}
