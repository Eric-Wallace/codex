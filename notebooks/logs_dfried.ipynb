{
 "cells": [
  {
   "cell_type": "code",
   "execution_count": 1,
   "id": "ae06d869",
   "metadata": {},
   "outputs": [],
   "source": [
    "import json"
   ]
  },
  {
   "cell_type": "code",
   "execution_count": 2,
   "id": "b355104a",
   "metadata": {},
   "outputs": [],
   "source": [
    "import pandas"
   ]
  },
  {
   "cell_type": "code",
   "execution_count": 3,
   "id": "afa9eb54",
   "metadata": {},
   "outputs": [],
   "source": [
    "import matplotlib.pyplot as plt"
   ]
  },
  {
   "cell_type": "code",
   "execution_count": 4,
   "id": "f27fe733",
   "metadata": {},
   "outputs": [],
   "source": [
    "import glob"
   ]
  },
  {
   "cell_type": "code",
   "execution_count": 5,
   "id": "494dafc8",
   "metadata": {},
   "outputs": [],
   "source": [
    "import os"
   ]
  },
  {
   "cell_type": "code",
   "execution_count": 6,
   "id": "6a752642",
   "metadata": {},
   "outputs": [],
   "source": [
    "TRAIN_PREFIX = \"INFO:train_inner:\"\n",
    "VALID_PREFIX = \"INFO:valid:\""
   ]
  },
  {
   "cell_type": "code",
   "execution_count": 7,
   "id": "0da16d39",
   "metadata": {},
   "outputs": [],
   "source": [
    "def read_log(folder_name, split='train_inner'):\n",
    "    records = []\n",
    "    for fname in sorted(glob.glob(os.path.join(folder_name, \"*train.stderr.*\"))):\n",
    "#         print(fname)\n",
    "        with open(fname) as f:\n",
    "            prefix = f\"INFO:{split}:\"\n",
    "            for line in f.readlines():\n",
    "                if line.startswith(prefix):\n",
    "                    line = line.lstrip(prefix)\n",
    "                    record = json.loads(line)\n",
    "                    records.append(record)\n",
    "    for fname in sorted(glob.glob(os.path.join(folder_name, \"train.log\"))):\n",
    "#         print(fname)\n",
    "        with open(fname) as f:\n",
    "            infix = f\"INFO | {split} |\"\n",
    "            for line in f.readlines():\n",
    "                if infix in line:\n",
    "                    line = line[line.index(infix):]\n",
    "                    line = line.lstrip(infix)\n",
    "                    record = json.loads(line)\n",
    "                    records.append(record)\n",
    "#     print(len(records))\n",
    "    df = pandas.DataFrame(records)#.infer_objects()\n",
    "    dedup_col = 'num_updates' if split == 'train_inner' else 'valid_num_updates'\n",
    "    return df.drop_duplicates(dedup_col, keep='last')"
   ]
  },
  {
   "cell_type": "code",
   "execution_count": 8,
   "id": "88b90650",
   "metadata": {},
   "outputs": [],
   "source": [
    "# paths = {\n",
    "#     \"lm-1b-clipped\": \"/checkpoint/dpf/2022-02-15/code.tk-ours.1.3b.lr8e-4.clip.fsdp.me_fp16.transformer_lm_gpt.nlay24.emb2048.bm_none.tps2048.adam.fp16adam.b2_0.98.eps1e-08.cl1.0.lr0.0008.wu1500.dr0.1.atdr0.1.wd0.01.ms8.uf2.mu49591.s1.ngpu32/\",\n",
    "#     \"lm-1b-unclipped\": \"/checkpoint/scottyih/2022-02-14/code.tk-ours.1.3b.fsdp.me_fp16.transformer_lm_gpt.nlay24.emb2048.bm_none.tps2048.adam.fp16adam.b2_0.98.eps1e-08.cl0.0.lr0.0008.wu1500.dr0.1.atdr0.1.wd0.01.ms8.uf2.mu49591.s1.ngpu32/\",\n",
    "#     \"cm-1b-eosblocked-64\": \"/checkpoint/dpf/2022-02-15/code.cm.tk-ours.1.3b.lr8e-4.fp16.transformer_lm_gpt.adam.beta0.9_0.98.wd0.01.clip1.0.lr0.0008.warmup1500.sampletok2048.breakeos_blocked.bs8.updatefreq1.seed3.ngpu64/\",\n",
    "#     \"cm-1b-eosblocked-64-8e-4--4e-4\": \"/checkpoint/dpf/2022-02-15/code.cm.tk-ours.1.3b.lr8e-4--4e-4.fp16.transformer_lm_gpt.adam.beta0.9_0.98.wd0.01.clip1.0.lr0.0004.warmup1500.sampletok2048.breakeos_blocked.bs8.updatefreq1.seed3.ngpu64/\",\n",
    "#     \"cm-1b-eosblocked-64-8e-4--4e-4-initscale\": \"/checkpoint/dpf/2022-02-15/code.cm.tk-ours.1.3b.lr8e-4--4e-4.fis4.fp16.transformer_lm_gpt.adam.beta0.9_0.98.wd0.01.clip1.0.lr0.0004.warmup1500.sampletok2048.breakeos_blocked.bs8.updatefreq1.seed3.fp16initscale4.ngpu64/\",\n",
    "#     \"cm-1b-eosblocked-128-32e-4\": \"/checkpoint/dpf/2022-02-18/code.cm.tk-ours.1.3b.lr32e-4.tbs1024.fp16.transformer_lm_gpt.adam.beta0.9_0.98.wd0.01.clip1.0.lr0.0032.warmup1500.sampletok2048.breakeos_blocked.bs8.updatefreq1.seed3.ngpu128/\",\n",
    "#     \"cm-1b-eosblocked-128-16e-4\": \"/checkpoint/dpf/2022-02-18/code.cm.tk-ours.1.3b.lr16e-4.tbs1024.fp16.transformer_lm_gpt.adam.beta0.9_0.98.wd0.01.clip1.0.lr0.0016.warmup1500.sampletok2048.breakeos_blocked.bs8.updatefreq1.seed3.ngpu128/\",\n",
    "#     \"cm-1b-eosblocked-128-16e-4--8e-4\": \"/checkpoint/dpf/2022-02-18/code.cm.tk-ours.1.3b.lr16e-4--8e-4.fis4.tbs1024.fp16.transformer_lm_gpt.adam.beta0.9_0.98.wd0.01.clip1.0.lr0.0008.warmup1500.sampletok2048.breakeos_blocked.bs8.updatefreq1.seed3.fp16initscale4.ngpu128/\",\n",
    "#     \"cm-1b-eosblocked-128-scott\": \"/checkpoint/dpf/models/cm-1B\",\n",
    "#     \"cm-6b\": \"/checkpoint/armenag/codex/logs/\"\n",
    "# }"
   ]
  },
  {
   "cell_type": "code",
   "execution_count": 9,
   "id": "8bf95cdc",
   "metadata": {},
   "outputs": [],
   "source": [
    "# epoch \\t humaneval pass@1 percentage \n",
    "# (from https://docs.google.com/spreadsheets/d/1nq15TZvYdwxxLcf4Qm2D3WZrM-83-gjXclPqZayNHWw/edit#gid=0), snapped to closest validation epoch\n",
    "cm_6B_he_raw = \"\"\"\n",
    "6000\t7.3%\n",
    "9000\t7.9%\n",
    "12750\t9.8%\n",
    "15750\t10.4%\n",
    "18750\t9.8%\n",
    "23250\t13.4%\n",
    "26250\t10.4%\n",
    "30000\t12.8%\n",
    "33750\t15.8%\n",
    "37000\t15.8%\n",
    "40000\t15.8%\n",
    "43000\t12.2%\n",
    "46000\t15.8%\n",
    "\"\"\"\n",
    "all_tokens = [line.split('\\t') for line in cm_6B_he_raw.splitlines() if line.strip()]\n",
    "# cm_6B_humaneval_scores_by_num_updates = [\n",
    "#     {'valid_num_updates': int(toks[0]), \n",
    "#      'humaneval_pass1': float(toks[1].rstrip('%'))}\n",
    "#     for toks in all_tokens\n",
    "# ]\n",
    "cm_6B_humaneval_scores_by_num_updates = {\n",
    "    int(toks[0]): float(toks[1].rstrip('%'))\n",
    "    for toks in all_tokens\n",
    "}"
   ]
  },
  {
   "cell_type": "code",
   "execution_count": 10,
   "id": "83bf893c",
   "metadata": {},
   "outputs": [],
   "source": [
    "# cm_6B_valid_log.merge(df, on='valid_num_updates', how='outer')"
   ]
  },
  {
   "cell_type": "code",
   "execution_count": 11,
   "id": "d0016794",
   "metadata": {},
   "outputs": [],
   "source": [
    "paths = {\n",
    "    \"lm-1b-clipped\": \"/checkpoint/dpf/2022-02-15/code.tk-ours.1.3b.lr8e-4.clip.fsdp.me_fp16.transformer_lm_gpt.nlay24.emb2048.bm_none.tps2048.adam.fp16adam.b2_0.98.eps1e-08.cl1.0.lr0.0008.wu1500.dr0.1.atdr0.1.wd0.01.ms8.uf2.mu49591.s1.ngpu32/\",\n",
    "#     \"lm-1b-unclipped\": \"/checkpoint/scottyih/2022-02-14/code.tk-ours.1.3b.fsdp.me_fp16.transformer_lm_gpt.nlay24.emb2048.bm_none.tps2048.adam.fp16adam.b2_0.98.eps1e-08.cl0.0.lr0.0008.wu1500.dr0.1.atdr0.1.wd0.01.ms8.uf2.mu49591.s1.ngpu32/\",\n",
    "    \"cm-1b-eosblocked-128-scott\": \"/checkpoint/dpf/models/cm-1.3B/\",\n",
    "    \"cm-6b\": \"/checkpoint/armenag/codex/logs/\",\n",
    "    \"InCoder-6B\": \"/checkpoint/armenag/codex/logs/\",\n",
    "    \"InCoder-1B\": \"/checkpoint/dpf/models/cm-1.3B/\",\n",
    "    \"lm-1b-py\": \"/checkpoint/dpf/2022-03-02/code.ours-py.fsdp.me_fp16.transformer_lm_gpt.nlay24.emb2048.bm_none.tps2048.adam.fp16adam.b2_0.98.eps1e-08.cl1.0.lr0.0008.wu1500.dr0.1.atdr0.1.wd0.01.ms8.uf8.mu10490.s1.ngpu8\",\n",
    "    \"lm-1b-py-so\": \"/checkpoint/sida/2022-03-03/code.ours-py-so.fsdp.me_fp16.transformer_lm_gpt.nlay24.emb2048.bm_none.tps2048.adam.fp16adam.b2_0.98.eps1e-08.cl1.0.lr0.0008.wu1500.dr0.1.atdr0.1.wd0.01.ms8.uf2.mu23841.s1.ngpu32\",\n",
    "    \"lm-1b-gpt2-py-so\": \"/checkpoint/dpf/2022-03-18/code.gpt2-py-so.fsdp.me_fp16.transformer_lm_gpt.nlay24.emb2048.bm_none.tps2048.adam.fp16adam.b2_0.98.eps1e-08.cl1.0.lr0.0008.wu1500.dr0.1.atdr0.1.wd0.01.ms8.uf1.mu43869.s1.ngpu64\",\n",
    "    \"bart-fsdp\": \"/checkpoint/dpf/2022-03-06/ours.bart.fsdp-bs4.bart_1B.tps2048.uf4.mu49591.ms4.dr0.1.atdr0.1.actdr0.0.wd0.01.adam.beta9999.eps1e-08.clip1.0.lr0.0004.warm1500.fp16.fsdp.poi_lam3.5.mask0.3.mask_lenspan-poisson.rpl_len1.rotate0.mask_rand0.1.ins0.perm_sen0.0.ngpu32\",\n",
    "    \"bart-pytorch-ddp\": \"/checkpoint/dpf/2022-03-06/ours.bart.pytorch-ddp.bs2.bart_1B.tps2048.uf8.mu49591.ms2.dr0.1.atdr0.1.actdr0.0.wd0.01.adam.beta9999.eps1e-08.clip1.0.lr0.0004.warm1500.fp16.poi_lam3.5.mask0.3.mask_lenspan-poisson.rpl_len1.rotate0.mask_rand0.1.ins0.perm_sen0.0.ngpu32\",\n",
    "    \"bart-3-7\": \"/checkpoint/dpf/2022-03-07/ours.bart.fsdp-bs4.bart_1B.tps2048.uf2.mu49591.ms4.dr0.1.atdr0.1.actdr0.0.wd0.01.adam.beta9999.eps1e-08.clip1.0.lr0.0004.warm1500.fp16.fsdp.poi_lam3.5.mask0.3.mask_lenspan-poisson.rpl_len1.rotate0.mask_rand0.1.ins0.perm_sen0.0.ngpu64/\",\n",
    "    \"bart-3-8\": \"/checkpoint/dpf/2022-03-08/ours.bart.fsdp-bs4.bart_1B.tps2048.uf2.mu49591.ms4.dr0.1.atdr0.1.actdr0.0.wd0.01.adam.beta9999.eps1e-08.clip1.0.lr0.0004.warm1500.fp16.fsdp.poi_lam3.5.mask0.3.mask_lenspan-poisson.rpl_len1.rotate0.mask_rand0.1.ins0.perm_sen0.0.ngpu64/\",\n",
    "    \"bart-ddp-oldinit-4e-4\": \"/checkpoint/dpf/2022-03-08/ours.bart.pytorch-ddp-bs4.old-init.bart_1B.tps2048.uf4.mu49591.ms2.dr0.1.atdr0.1.actdr0.0.wd0.01.adam.beta9999.eps1e-08.clip1.0.lr0.0004.warm1500.fp16.poi_lam3.5.mask0.3.mask_lenspan-poisson.rpl_len1.rotate0.mask_rand0.1.ins0.perm_sen0.0.ngpu64/\",\n",
    "    # paused 1e-4 because the loss is way high\n",
    "    \"bart-ddp-oldinit-1e-4\": \"/checkpoint/dpf/2022-03-09/ours.bart.pytorch-ddp-bs2.old-init.bart_1B.tps2048.uf4.mu49591.ms2.dr0.1.atdr0.1.actdr0.0.wd0.01.adam.beta9999.eps1e-08.clip1.0.lr0.0001.warm1500.fp16.poi_lam3.5.mask0.3.mask_lenspan-poisson.rpl_len1.rotate0.mask_rand0.1.ins0.perm_sen0.0.ngpu64/\",\n",
    "    \"bart-ddp-oldinit-2e-4\": \"/checkpoint/dpf/2022-03-10/ours.bart.pytorch-ddp-bs2.old-init.bart_1B.tps2048.uf4.mu49591.ms2.dr0.1.atdr0.1.actdr0.0.wd0.01.adam.beta9999.eps1e-08.clip1.0.lr0.0002.warm1500.fp16.poi_lam3.5.mask0.3.mask_lenspan-poisson.rpl_len1.rotate0.mask_rand0.1.ins0.perm_sen0.0.ngpu64/\",\n",
    "    \"lm-2b\": \"/checkpoint/scottyih/2022-03-21/ours.2.3B.fsdp.me_fp16.transformer_lm_gpt.nlay28.emb2560.bm_none.tps2048.adam.fp16adam.b2_0.98.eps1e-08.cl1.0.lr0.00016.wu1500.dr0.1.atdr0.1.wd0.01.ms4.uf1.mu49591.s1.ngpu128\",\n",
    "    \"lm-2b-8e-4\": \"/checkpoint/scottyih/2022-03-25/ours.2.3B.lr8e-4.fsdp.me_fp16.transformer_lm_gpt.nlay28.emb2560.bm_none.tps2048.adam.fp16adam.b2_0.98.eps1e-08.cl1.0.lr0.0008.wu1500.dr0.1.atdr0.1.wd0.01.ms4.uf1.mu49591.s1.ngpu128\",\n",
    "    \"lm-2b-16e-4\": \"/checkpoint/dpf/2022-03-26/ours.2.3B.16e-4.fsdp.me_fp16.transformer_lm_gpt.nlay28.emb2560.bm_none.tps2048.adam.fp16adam.b2_0.98.eps1e-08.cl1.0.lr0.0016.wu1500.dr0.1.atdr0.1.wd0.01.ms4.uf1.mu49591.s1.ngpu128/\",\n",
    "}"
   ]
  },
  {
   "cell_type": "code",
   "execution_count": 12,
   "id": "59983b61",
   "metadata": {},
   "outputs": [],
   "source": [
    "train_logs = {\n",
    "    name: read_log(folder_name, 'train_inner')\n",
    "    for name, folder_name in paths.items()\n",
    "}\n",
    "valid_logs = {\n",
    "    name: read_log(folder_name, 'valid')\n",
    "    for name, folder_name in paths.items()\n",
    "}"
   ]
  },
  {
   "cell_type": "code",
   "execution_count": 13,
   "id": "86f0893a",
   "metadata": {},
   "outputs": [],
   "source": [
    "for key in valid_logs.keys():\n",
    "    train_df = train_logs[key]\n",
    "    valid_df = valid_logs[key]\n",
    "    for col, t in {\n",
    "        'num_updates': int,\n",
    "        'valid_num_updates': int,\n",
    "        'update': float,\n",
    "        'valid_ppl': float,\n",
    "    }.items():\n",
    "        if col in train_df.columns:\n",
    "            train_df[col] = train_df[col].map(t)\n",
    "        if col in valid_df.columns:\n",
    "            valid_df[col] = valid_df[col].map(t)\n",
    "    rec = train_df.iloc[-1]\n",
    "    if rec['update'] > 1.1: # issue to check into where we were logging 2 epochs\n",
    "        continue\n",
    "    updates_per_epoch = rec['num_updates'] / rec['update']\n",
    "    valid_df['update'] = valid_df['valid_num_updates'] / updates_per_epoch\n",
    "    if key in ['cm-6b', 'InCoder-6B']:\n",
    "        # TODO: this is a hack needed because logs are partially missing\n",
    "        valid_df = valid_df.merge(pandas.DataFrame([{\n",
    "                'valid_num_updates': vnu,\n",
    "                'humaneval_pass1': he,\n",
    "            } for vnu, he in cm_6B_humaneval_scores_by_num_updates.items()\n",
    "            ]), on='valid_num_updates', how='outer')\n",
    "        valid_df['update'] = valid_df['valid_num_updates'] / updates_per_epoch\n",
    "        valid_logs[key] = valid_df"
   ]
  },
  {
   "cell_type": "code",
   "execution_count": 14,
   "id": "bfab90fa",
   "metadata": {},
   "outputs": [],
   "source": [
    "cm_6B_valid_log = valid_logs['cm-6b']"
   ]
  },
  {
   "cell_type": "code",
   "execution_count": 15,
   "id": "35154ed1",
   "metadata": {},
   "outputs": [
    {
     "data": {
      "text/html": [
       "<div>\n",
       "<style scoped>\n",
       "    .dataframe tbody tr th:only-of-type {\n",
       "        vertical-align: middle;\n",
       "    }\n",
       "\n",
       "    .dataframe tbody tr th {\n",
       "        vertical-align: top;\n",
       "    }\n",
       "\n",
       "    .dataframe thead th {\n",
       "        text-align: right;\n",
       "    }\n",
       "</style>\n",
       "<table border=\"1\" class=\"dataframe\">\n",
       "  <thead>\n",
       "    <tr style=\"text-align: right;\">\n",
       "      <th></th>\n",
       "      <th>epoch</th>\n",
       "      <th>valid_loss</th>\n",
       "      <th>valid_summed_loss</th>\n",
       "      <th>valid_ppl</th>\n",
       "      <th>valid_wps</th>\n",
       "      <th>valid_wpb</th>\n",
       "      <th>valid_bsz</th>\n",
       "      <th>valid_num_updates</th>\n",
       "      <th>valid_best_loss</th>\n",
       "      <th>update</th>\n",
       "      <th>humaneval_pass1</th>\n",
       "    </tr>\n",
       "  </thead>\n",
       "  <tbody>\n",
       "    <tr>\n",
       "      <th>0</th>\n",
       "      <td>1.0</td>\n",
       "      <td>4.113</td>\n",
       "      <td>6.185662e+09</td>\n",
       "      <td>17.30</td>\n",
       "      <td>222451</td>\n",
       "      <td>1.58814e+06</td>\n",
       "      <td>1918.3</td>\n",
       "      <td>750</td>\n",
       "      <td>NaN</td>\n",
       "      <td>0.016252</td>\n",
       "      <td>NaN</td>\n",
       "    </tr>\n",
       "    <tr>\n",
       "      <th>1</th>\n",
       "      <td>1.0</td>\n",
       "      <td>3.4</td>\n",
       "      <td>5.113155e+09</td>\n",
       "      <td>10.55</td>\n",
       "      <td>222608</td>\n",
       "      <td>1.58815e+06</td>\n",
       "      <td>1918.3</td>\n",
       "      <td>1500</td>\n",
       "      <td>3.4</td>\n",
       "      <td>0.032504</td>\n",
       "      <td>NaN</td>\n",
       "    </tr>\n",
       "    <tr>\n",
       "      <th>2</th>\n",
       "      <td>1.0</td>\n",
       "      <td>2.858</td>\n",
       "      <td>4.298513e+09</td>\n",
       "      <td>7.25</td>\n",
       "      <td>222680</td>\n",
       "      <td>1.58814e+06</td>\n",
       "      <td>1918.3</td>\n",
       "      <td>2250</td>\n",
       "      <td>2.858</td>\n",
       "      <td>0.048757</td>\n",
       "      <td>NaN</td>\n",
       "    </tr>\n",
       "    <tr>\n",
       "      <th>3</th>\n",
       "      <td>1.0</td>\n",
       "      <td>2.649</td>\n",
       "      <td>3.984748e+09</td>\n",
       "      <td>6.27</td>\n",
       "      <td>222724</td>\n",
       "      <td>1.58817e+06</td>\n",
       "      <td>1918.3</td>\n",
       "      <td>3000</td>\n",
       "      <td>2.649</td>\n",
       "      <td>0.065009</td>\n",
       "      <td>NaN</td>\n",
       "    </tr>\n",
       "    <tr>\n",
       "      <th>4</th>\n",
       "      <td>1.0</td>\n",
       "      <td>2.53</td>\n",
       "      <td>3.805471e+09</td>\n",
       "      <td>5.78</td>\n",
       "      <td>222758</td>\n",
       "      <td>1.58816e+06</td>\n",
       "      <td>1918.3</td>\n",
       "      <td>3750</td>\n",
       "      <td>2.53</td>\n",
       "      <td>0.081261</td>\n",
       "      <td>NaN</td>\n",
       "    </tr>\n",
       "    <tr>\n",
       "      <th>5</th>\n",
       "      <td>1.0</td>\n",
       "      <td>2.453</td>\n",
       "      <td>3.688715e+09</td>\n",
       "      <td>5.47</td>\n",
       "      <td>222905</td>\n",
       "      <td>1.58816e+06</td>\n",
       "      <td>1918.3</td>\n",
       "      <td>4500</td>\n",
       "      <td>2.453</td>\n",
       "      <td>0.097513</td>\n",
       "      <td>NaN</td>\n",
       "    </tr>\n",
       "    <tr>\n",
       "      <th>6</th>\n",
       "      <td>1.0</td>\n",
       "      <td>2.398</td>\n",
       "      <td>3.606027e+09</td>\n",
       "      <td>5.27</td>\n",
       "      <td>222746</td>\n",
       "      <td>1.58817e+06</td>\n",
       "      <td>1918.3</td>\n",
       "      <td>5250</td>\n",
       "      <td>2.398</td>\n",
       "      <td>0.113766</td>\n",
       "      <td>NaN</td>\n",
       "    </tr>\n",
       "    <tr>\n",
       "      <th>7</th>\n",
       "      <td>1.0</td>\n",
       "      <td>2.355</td>\n",
       "      <td>3.542264e+09</td>\n",
       "      <td>5.12</td>\n",
       "      <td>222666</td>\n",
       "      <td>1.58813e+06</td>\n",
       "      <td>1918.3</td>\n",
       "      <td>6000</td>\n",
       "      <td>2.355</td>\n",
       "      <td>0.130018</td>\n",
       "      <td>7.3</td>\n",
       "    </tr>\n",
       "    <tr>\n",
       "      <th>8</th>\n",
       "      <td>1.0</td>\n",
       "      <td>2.321</td>\n",
       "      <td>3.491123e+09</td>\n",
       "      <td>5.00</td>\n",
       "      <td>222687</td>\n",
       "      <td>1.58811e+06</td>\n",
       "      <td>1918.3</td>\n",
       "      <td>6750</td>\n",
       "      <td>2.321</td>\n",
       "      <td>0.146270</td>\n",
       "      <td>NaN</td>\n",
       "    </tr>\n",
       "    <tr>\n",
       "      <th>9</th>\n",
       "      <td>1.0</td>\n",
       "      <td>2.294</td>\n",
       "      <td>3.450819e+09</td>\n",
       "      <td>4.91</td>\n",
       "      <td>222602</td>\n",
       "      <td>1.58816e+06</td>\n",
       "      <td>1918.3</td>\n",
       "      <td>7500</td>\n",
       "      <td>2.294</td>\n",
       "      <td>0.162522</td>\n",
       "      <td>NaN</td>\n",
       "    </tr>\n",
       "    <tr>\n",
       "      <th>10</th>\n",
       "      <td>1.0</td>\n",
       "      <td>2.27</td>\n",
       "      <td>3.413588e+09</td>\n",
       "      <td>4.82</td>\n",
       "      <td>222758</td>\n",
       "      <td>1.58815e+06</td>\n",
       "      <td>1918.3</td>\n",
       "      <td>8250</td>\n",
       "      <td>2.27</td>\n",
       "      <td>0.178774</td>\n",
       "      <td>NaN</td>\n",
       "    </tr>\n",
       "    <tr>\n",
       "      <th>11</th>\n",
       "      <td>1.0</td>\n",
       "      <td>2.249</td>\n",
       "      <td>3.382582e+09</td>\n",
       "      <td>4.75</td>\n",
       "      <td>222633</td>\n",
       "      <td>1.58812e+06</td>\n",
       "      <td>1918.3</td>\n",
       "      <td>9000</td>\n",
       "      <td>2.249</td>\n",
       "      <td>0.195027</td>\n",
       "      <td>7.9</td>\n",
       "    </tr>\n",
       "    <tr>\n",
       "      <th>12</th>\n",
       "      <td>1.0</td>\n",
       "      <td>2.233</td>\n",
       "      <td>3.357885e+09</td>\n",
       "      <td>4.70</td>\n",
       "      <td>225646</td>\n",
       "      <td>1.58816e+06</td>\n",
       "      <td>1918.3</td>\n",
       "      <td>9750</td>\n",
       "      <td>2.233</td>\n",
       "      <td>0.211279</td>\n",
       "      <td>NaN</td>\n",
       "    </tr>\n",
       "    <tr>\n",
       "      <th>13</th>\n",
       "      <td>1.0</td>\n",
       "      <td>2.216</td>\n",
       "      <td>3.332352e+09</td>\n",
       "      <td>4.65</td>\n",
       "      <td>225853</td>\n",
       "      <td>1.58811e+06</td>\n",
       "      <td>1918.3</td>\n",
       "      <td>10500</td>\n",
       "      <td>2.216</td>\n",
       "      <td>0.227531</td>\n",
       "      <td>NaN</td>\n",
       "    </tr>\n",
       "    <tr>\n",
       "      <th>14</th>\n",
       "      <td>1.0</td>\n",
       "      <td>2.202</td>\n",
       "      <td>3.311431e+09</td>\n",
       "      <td>4.60</td>\n",
       "      <td>225670</td>\n",
       "      <td>1.5882e+06</td>\n",
       "      <td>1918.3</td>\n",
       "      <td>11250</td>\n",
       "      <td>2.202</td>\n",
       "      <td>0.243783</td>\n",
       "      <td>NaN</td>\n",
       "    </tr>\n",
       "    <tr>\n",
       "      <th>15</th>\n",
       "      <td>1.0</td>\n",
       "      <td>2.188</td>\n",
       "      <td>3.290977e+09</td>\n",
       "      <td>4.56</td>\n",
       "      <td>217906</td>\n",
       "      <td>1.58811e+06</td>\n",
       "      <td>1918.3</td>\n",
       "      <td>12000</td>\n",
       "      <td>2.188</td>\n",
       "      <td>0.260036</td>\n",
       "      <td>NaN</td>\n",
       "    </tr>\n",
       "    <tr>\n",
       "      <th>16</th>\n",
       "      <td>1.0</td>\n",
       "      <td>2.176</td>\n",
       "      <td>3.272169e+09</td>\n",
       "      <td>4.52</td>\n",
       "      <td>217876</td>\n",
       "      <td>1.58818e+06</td>\n",
       "      <td>1918.3</td>\n",
       "      <td>12750</td>\n",
       "      <td>2.176</td>\n",
       "      <td>0.276288</td>\n",
       "      <td>9.8</td>\n",
       "    </tr>\n",
       "    <tr>\n",
       "      <th>17</th>\n",
       "      <td>1.0</td>\n",
       "      <td>2.164</td>\n",
       "      <td>3.255112e+09</td>\n",
       "      <td>4.48</td>\n",
       "      <td>217986</td>\n",
       "      <td>1.58818e+06</td>\n",
       "      <td>1918.3</td>\n",
       "      <td>13500</td>\n",
       "      <td>2.164</td>\n",
       "      <td>0.292540</td>\n",
       "      <td>NaN</td>\n",
       "    </tr>\n",
       "    <tr>\n",
       "      <th>18</th>\n",
       "      <td>1.0</td>\n",
       "      <td>2.155</td>\n",
       "      <td>3.240860e+09</td>\n",
       "      <td>4.45</td>\n",
       "      <td>217903</td>\n",
       "      <td>1.58817e+06</td>\n",
       "      <td>1918.3</td>\n",
       "      <td>14250</td>\n",
       "      <td>2.155</td>\n",
       "      <td>0.308792</td>\n",
       "      <td>NaN</td>\n",
       "    </tr>\n",
       "    <tr>\n",
       "      <th>19</th>\n",
       "      <td>1.0</td>\n",
       "      <td>2.145</td>\n",
       "      <td>3.226503e+09</td>\n",
       "      <td>4.42</td>\n",
       "      <td>218023</td>\n",
       "      <td>1.58812e+06</td>\n",
       "      <td>1918.3</td>\n",
       "      <td>15000</td>\n",
       "      <td>2.145</td>\n",
       "      <td>0.325044</td>\n",
       "      <td>NaN</td>\n",
       "    </tr>\n",
       "    <tr>\n",
       "      <th>20</th>\n",
       "      <td>1.0</td>\n",
       "      <td>2.137</td>\n",
       "      <td>3.213859e+09</td>\n",
       "      <td>4.40</td>\n",
       "      <td>217767</td>\n",
       "      <td>1.58811e+06</td>\n",
       "      <td>1918.3</td>\n",
       "      <td>15750</td>\n",
       "      <td>2.137</td>\n",
       "      <td>0.341297</td>\n",
       "      <td>10.4</td>\n",
       "    </tr>\n",
       "    <tr>\n",
       "      <th>21</th>\n",
       "      <td>1.0</td>\n",
       "      <td>2.128</td>\n",
       "      <td>3.201017e+09</td>\n",
       "      <td>4.37</td>\n",
       "      <td>222113</td>\n",
       "      <td>1.58812e+06</td>\n",
       "      <td>1918.3</td>\n",
       "      <td>16500</td>\n",
       "      <td>2.128</td>\n",
       "      <td>0.357549</td>\n",
       "      <td>NaN</td>\n",
       "    </tr>\n",
       "    <tr>\n",
       "      <th>22</th>\n",
       "      <td>1.0</td>\n",
       "      <td>2.121</td>\n",
       "      <td>3.190390e+09</td>\n",
       "      <td>4.35</td>\n",
       "      <td>222088</td>\n",
       "      <td>1.58819e+06</td>\n",
       "      <td>1918.3</td>\n",
       "      <td>17250</td>\n",
       "      <td>2.121</td>\n",
       "      <td>0.373801</td>\n",
       "      <td>NaN</td>\n",
       "    </tr>\n",
       "    <tr>\n",
       "      <th>23</th>\n",
       "      <td>1.0</td>\n",
       "      <td>2.113</td>\n",
       "      <td>3.178291e+09</td>\n",
       "      <td>4.33</td>\n",
       "      <td>222080</td>\n",
       "      <td>1.58816e+06</td>\n",
       "      <td>1918.3</td>\n",
       "      <td>18000</td>\n",
       "      <td>2.113</td>\n",
       "      <td>0.390053</td>\n",
       "      <td>NaN</td>\n",
       "    </tr>\n",
       "    <tr>\n",
       "      <th>24</th>\n",
       "      <td>1.0</td>\n",
       "      <td>2.107</td>\n",
       "      <td>3.168634e+09</td>\n",
       "      <td>4.31</td>\n",
       "      <td>222122</td>\n",
       "      <td>1.58821e+06</td>\n",
       "      <td>1918.3</td>\n",
       "      <td>18750</td>\n",
       "      <td>2.107</td>\n",
       "      <td>0.406306</td>\n",
       "      <td>9.8</td>\n",
       "    </tr>\n",
       "    <tr>\n",
       "      <th>25</th>\n",
       "      <td>1.0</td>\n",
       "      <td>2.102</td>\n",
       "      <td>3.161086e+09</td>\n",
       "      <td>4.29</td>\n",
       "      <td>221914</td>\n",
       "      <td>1.58819e+06</td>\n",
       "      <td>1918.3</td>\n",
       "      <td>19500</td>\n",
       "      <td>2.102</td>\n",
       "      <td>0.422558</td>\n",
       "      <td>NaN</td>\n",
       "    </tr>\n",
       "    <tr>\n",
       "      <th>26</th>\n",
       "      <td>1.0</td>\n",
       "      <td>2.095</td>\n",
       "      <td>3.150476e+09</td>\n",
       "      <td>4.27</td>\n",
       "      <td>221932</td>\n",
       "      <td>1.58812e+06</td>\n",
       "      <td>1918.3</td>\n",
       "      <td>20250</td>\n",
       "      <td>2.095</td>\n",
       "      <td>0.438810</td>\n",
       "      <td>NaN</td>\n",
       "    </tr>\n",
       "    <tr>\n",
       "      <th>27</th>\n",
       "      <td>1.0</td>\n",
       "      <td>2.088</td>\n",
       "      <td>3.140108e+09</td>\n",
       "      <td>4.25</td>\n",
       "      <td>216108</td>\n",
       "      <td>1.5881e+06</td>\n",
       "      <td>1918.3</td>\n",
       "      <td>21000</td>\n",
       "      <td>2.088</td>\n",
       "      <td>0.455062</td>\n",
       "      <td>NaN</td>\n",
       "    </tr>\n",
       "    <tr>\n",
       "      <th>28</th>\n",
       "      <td>1.0</td>\n",
       "      <td>2.083</td>\n",
       "      <td>3.132724e+09</td>\n",
       "      <td>4.24</td>\n",
       "      <td>216066</td>\n",
       "      <td>1.58811e+06</td>\n",
       "      <td>1918.3</td>\n",
       "      <td>21750</td>\n",
       "      <td>2.083</td>\n",
       "      <td>0.471314</td>\n",
       "      <td>NaN</td>\n",
       "    </tr>\n",
       "    <tr>\n",
       "      <th>29</th>\n",
       "      <td>1.0</td>\n",
       "      <td>2.077</td>\n",
       "      <td>3.123904e+09</td>\n",
       "      <td>4.22</td>\n",
       "      <td>216172</td>\n",
       "      <td>1.58813e+06</td>\n",
       "      <td>1918.3</td>\n",
       "      <td>22500</td>\n",
       "      <td>2.077</td>\n",
       "      <td>0.487567</td>\n",
       "      <td>NaN</td>\n",
       "    </tr>\n",
       "    <tr>\n",
       "      <th>30</th>\n",
       "      <td>1.0</td>\n",
       "      <td>2.072</td>\n",
       "      <td>3.116743e+09</td>\n",
       "      <td>4.21</td>\n",
       "      <td>216142</td>\n",
       "      <td>1.58812e+06</td>\n",
       "      <td>1918.3</td>\n",
       "      <td>23250</td>\n",
       "      <td>2.072</td>\n",
       "      <td>0.503819</td>\n",
       "      <td>13.4</td>\n",
       "    </tr>\n",
       "    <tr>\n",
       "      <th>31</th>\n",
       "      <td>1.0</td>\n",
       "      <td>2.066</td>\n",
       "      <td>3.107559e+09</td>\n",
       "      <td>4.19</td>\n",
       "      <td>216190</td>\n",
       "      <td>1.58807e+06</td>\n",
       "      <td>1918.3</td>\n",
       "      <td>24000</td>\n",
       "      <td>2.066</td>\n",
       "      <td>0.520071</td>\n",
       "      <td>NaN</td>\n",
       "    </tr>\n",
       "    <tr>\n",
       "      <th>32</th>\n",
       "      <td>1.0</td>\n",
       "      <td>2.062</td>\n",
       "      <td>3.100844e+09</td>\n",
       "      <td>4.18</td>\n",
       "      <td>216268</td>\n",
       "      <td>1.58813e+06</td>\n",
       "      <td>1918.3</td>\n",
       "      <td>24750</td>\n",
       "      <td>2.062</td>\n",
       "      <td>0.536323</td>\n",
       "      <td>NaN</td>\n",
       "    </tr>\n",
       "    <tr>\n",
       "      <th>33</th>\n",
       "      <td>1.0</td>\n",
       "      <td>2.057</td>\n",
       "      <td>3.093704e+09</td>\n",
       "      <td>4.16</td>\n",
       "      <td>224171</td>\n",
       "      <td>1.58813e+06</td>\n",
       "      <td>1918.3</td>\n",
       "      <td>25500</td>\n",
       "      <td>2.057</td>\n",
       "      <td>0.552575</td>\n",
       "      <td>NaN</td>\n",
       "    </tr>\n",
       "    <tr>\n",
       "      <th>34</th>\n",
       "      <td>1.0</td>\n",
       "      <td>2.052</td>\n",
       "      <td>3.086297e+09</td>\n",
       "      <td>4.15</td>\n",
       "      <td>224023</td>\n",
       "      <td>1.58813e+06</td>\n",
       "      <td>1918.3</td>\n",
       "      <td>26250</td>\n",
       "      <td>2.052</td>\n",
       "      <td>0.568828</td>\n",
       "      <td>10.4</td>\n",
       "    </tr>\n",
       "    <tr>\n",
       "      <th>35</th>\n",
       "      <td>1.0</td>\n",
       "      <td>2.049</td>\n",
       "      <td>3.081748e+09</td>\n",
       "      <td>4.14</td>\n",
       "      <td>224158</td>\n",
       "      <td>1.58817e+06</td>\n",
       "      <td>1918.3</td>\n",
       "      <td>27000</td>\n",
       "      <td>2.049</td>\n",
       "      <td>0.585080</td>\n",
       "      <td>NaN</td>\n",
       "    </tr>\n",
       "    <tr>\n",
       "      <th>36</th>\n",
       "      <td>1.0</td>\n",
       "      <td>2.044</td>\n",
       "      <td>3.073961e+09</td>\n",
       "      <td>4.12</td>\n",
       "      <td>224224</td>\n",
       "      <td>1.58812e+06</td>\n",
       "      <td>1918.3</td>\n",
       "      <td>27750</td>\n",
       "      <td>2.044</td>\n",
       "      <td>0.601332</td>\n",
       "      <td>NaN</td>\n",
       "    </tr>\n",
       "    <tr>\n",
       "      <th>37</th>\n",
       "      <td>1.0</td>\n",
       "      <td>2.04</td>\n",
       "      <td>3.067727e+09</td>\n",
       "      <td>4.11</td>\n",
       "      <td>223351</td>\n",
       "      <td>1.58818e+06</td>\n",
       "      <td>1918.3</td>\n",
       "      <td>28500</td>\n",
       "      <td>2.04</td>\n",
       "      <td>0.617584</td>\n",
       "      <td>NaN</td>\n",
       "    </tr>\n",
       "    <tr>\n",
       "      <th>38</th>\n",
       "      <td>1.0</td>\n",
       "      <td>2.036</td>\n",
       "      <td>3.061942e+09</td>\n",
       "      <td>4.10</td>\n",
       "      <td>223320</td>\n",
       "      <td>1.58816e+06</td>\n",
       "      <td>1918.3</td>\n",
       "      <td>29250</td>\n",
       "      <td>2.036</td>\n",
       "      <td>0.633837</td>\n",
       "      <td>NaN</td>\n",
       "    </tr>\n",
       "    <tr>\n",
       "      <th>39</th>\n",
       "      <td>1.0</td>\n",
       "      <td>2.033</td>\n",
       "      <td>3.057302e+09</td>\n",
       "      <td>4.09</td>\n",
       "      <td>223341</td>\n",
       "      <td>1.58811e+06</td>\n",
       "      <td>1918.3</td>\n",
       "      <td>30000</td>\n",
       "      <td>2.033</td>\n",
       "      <td>0.650089</td>\n",
       "      <td>12.8</td>\n",
       "    </tr>\n",
       "    <tr>\n",
       "      <th>40</th>\n",
       "      <td>1.0</td>\n",
       "      <td>2.028</td>\n",
       "      <td>3.050313e+09</td>\n",
       "      <td>4.08</td>\n",
       "      <td>223370</td>\n",
       "      <td>1.58811e+06</td>\n",
       "      <td>1918.3</td>\n",
       "      <td>30750</td>\n",
       "      <td>2.028</td>\n",
       "      <td>0.666341</td>\n",
       "      <td>NaN</td>\n",
       "    </tr>\n",
       "    <tr>\n",
       "      <th>41</th>\n",
       "      <td>1.0</td>\n",
       "      <td>2.025</td>\n",
       "      <td>3.046055e+09</td>\n",
       "      <td>4.07</td>\n",
       "      <td>223577</td>\n",
       "      <td>1.58817e+06</td>\n",
       "      <td>1918.3</td>\n",
       "      <td>31500</td>\n",
       "      <td>2.025</td>\n",
       "      <td>0.682593</td>\n",
       "      <td>NaN</td>\n",
       "    </tr>\n",
       "    <tr>\n",
       "      <th>42</th>\n",
       "      <td>1.0</td>\n",
       "      <td>2.023</td>\n",
       "      <td>3.042625e+09</td>\n",
       "      <td>4.06</td>\n",
       "      <td>223455</td>\n",
       "      <td>1.58815e+06</td>\n",
       "      <td>1918.3</td>\n",
       "      <td>32250</td>\n",
       "      <td>2.023</td>\n",
       "      <td>0.698845</td>\n",
       "      <td>NaN</td>\n",
       "    </tr>\n",
       "    <tr>\n",
       "      <th>43</th>\n",
       "      <td>1.0</td>\n",
       "      <td>2.018</td>\n",
       "      <td>3.034386e+09</td>\n",
       "      <td>4.05</td>\n",
       "      <td>223631</td>\n",
       "      <td>1.58817e+06</td>\n",
       "      <td>1918.3</td>\n",
       "      <td>33000</td>\n",
       "      <td>2.018</td>\n",
       "      <td>0.715098</td>\n",
       "      <td>NaN</td>\n",
       "    </tr>\n",
       "    <tr>\n",
       "      <th>44</th>\n",
       "      <td>1.0</td>\n",
       "      <td>2.014</td>\n",
       "      <td>3.029178e+09</td>\n",
       "      <td>4.04</td>\n",
       "      <td>223792</td>\n",
       "      <td>1.58819e+06</td>\n",
       "      <td>1918.3</td>\n",
       "      <td>33750</td>\n",
       "      <td>2.014</td>\n",
       "      <td>0.731350</td>\n",
       "      <td>15.8</td>\n",
       "    </tr>\n",
       "    <tr>\n",
       "      <th>45</th>\n",
       "      <td>NaN</td>\n",
       "      <td>NaN</td>\n",
       "      <td>NaN</td>\n",
       "      <td>NaN</td>\n",
       "      <td>NaN</td>\n",
       "      <td>NaN</td>\n",
       "      <td>NaN</td>\n",
       "      <td>37000</td>\n",
       "      <td>NaN</td>\n",
       "      <td>0.801776</td>\n",
       "      <td>15.8</td>\n",
       "    </tr>\n",
       "    <tr>\n",
       "      <th>46</th>\n",
       "      <td>NaN</td>\n",
       "      <td>NaN</td>\n",
       "      <td>NaN</td>\n",
       "      <td>NaN</td>\n",
       "      <td>NaN</td>\n",
       "      <td>NaN</td>\n",
       "      <td>NaN</td>\n",
       "      <td>40000</td>\n",
       "      <td>NaN</td>\n",
       "      <td>0.866785</td>\n",
       "      <td>15.8</td>\n",
       "    </tr>\n",
       "    <tr>\n",
       "      <th>47</th>\n",
       "      <td>NaN</td>\n",
       "      <td>NaN</td>\n",
       "      <td>NaN</td>\n",
       "      <td>NaN</td>\n",
       "      <td>NaN</td>\n",
       "      <td>NaN</td>\n",
       "      <td>NaN</td>\n",
       "      <td>43000</td>\n",
       "      <td>NaN</td>\n",
       "      <td>0.931794</td>\n",
       "      <td>12.2</td>\n",
       "    </tr>\n",
       "    <tr>\n",
       "      <th>48</th>\n",
       "      <td>NaN</td>\n",
       "      <td>NaN</td>\n",
       "      <td>NaN</td>\n",
       "      <td>NaN</td>\n",
       "      <td>NaN</td>\n",
       "      <td>NaN</td>\n",
       "      <td>NaN</td>\n",
       "      <td>46000</td>\n",
       "      <td>NaN</td>\n",
       "      <td>0.996803</td>\n",
       "      <td>15.8</td>\n",
       "    </tr>\n",
       "  </tbody>\n",
       "</table>\n",
       "</div>"
      ],
      "text/plain": [
       "    epoch valid_loss  valid_summed_loss  valid_ppl valid_wps    valid_wpb  \\\n",
       "0     1.0      4.113       6.185662e+09      17.30    222451  1.58814e+06   \n",
       "1     1.0        3.4       5.113155e+09      10.55    222608  1.58815e+06   \n",
       "2     1.0      2.858       4.298513e+09       7.25    222680  1.58814e+06   \n",
       "3     1.0      2.649       3.984748e+09       6.27    222724  1.58817e+06   \n",
       "4     1.0       2.53       3.805471e+09       5.78    222758  1.58816e+06   \n",
       "5     1.0      2.453       3.688715e+09       5.47    222905  1.58816e+06   \n",
       "6     1.0      2.398       3.606027e+09       5.27    222746  1.58817e+06   \n",
       "7     1.0      2.355       3.542264e+09       5.12    222666  1.58813e+06   \n",
       "8     1.0      2.321       3.491123e+09       5.00    222687  1.58811e+06   \n",
       "9     1.0      2.294       3.450819e+09       4.91    222602  1.58816e+06   \n",
       "10    1.0       2.27       3.413588e+09       4.82    222758  1.58815e+06   \n",
       "11    1.0      2.249       3.382582e+09       4.75    222633  1.58812e+06   \n",
       "12    1.0      2.233       3.357885e+09       4.70    225646  1.58816e+06   \n",
       "13    1.0      2.216       3.332352e+09       4.65    225853  1.58811e+06   \n",
       "14    1.0      2.202       3.311431e+09       4.60    225670   1.5882e+06   \n",
       "15    1.0      2.188       3.290977e+09       4.56    217906  1.58811e+06   \n",
       "16    1.0      2.176       3.272169e+09       4.52    217876  1.58818e+06   \n",
       "17    1.0      2.164       3.255112e+09       4.48    217986  1.58818e+06   \n",
       "18    1.0      2.155       3.240860e+09       4.45    217903  1.58817e+06   \n",
       "19    1.0      2.145       3.226503e+09       4.42    218023  1.58812e+06   \n",
       "20    1.0      2.137       3.213859e+09       4.40    217767  1.58811e+06   \n",
       "21    1.0      2.128       3.201017e+09       4.37    222113  1.58812e+06   \n",
       "22    1.0      2.121       3.190390e+09       4.35    222088  1.58819e+06   \n",
       "23    1.0      2.113       3.178291e+09       4.33    222080  1.58816e+06   \n",
       "24    1.0      2.107       3.168634e+09       4.31    222122  1.58821e+06   \n",
       "25    1.0      2.102       3.161086e+09       4.29    221914  1.58819e+06   \n",
       "26    1.0      2.095       3.150476e+09       4.27    221932  1.58812e+06   \n",
       "27    1.0      2.088       3.140108e+09       4.25    216108   1.5881e+06   \n",
       "28    1.0      2.083       3.132724e+09       4.24    216066  1.58811e+06   \n",
       "29    1.0      2.077       3.123904e+09       4.22    216172  1.58813e+06   \n",
       "30    1.0      2.072       3.116743e+09       4.21    216142  1.58812e+06   \n",
       "31    1.0      2.066       3.107559e+09       4.19    216190  1.58807e+06   \n",
       "32    1.0      2.062       3.100844e+09       4.18    216268  1.58813e+06   \n",
       "33    1.0      2.057       3.093704e+09       4.16    224171  1.58813e+06   \n",
       "34    1.0      2.052       3.086297e+09       4.15    224023  1.58813e+06   \n",
       "35    1.0      2.049       3.081748e+09       4.14    224158  1.58817e+06   \n",
       "36    1.0      2.044       3.073961e+09       4.12    224224  1.58812e+06   \n",
       "37    1.0       2.04       3.067727e+09       4.11    223351  1.58818e+06   \n",
       "38    1.0      2.036       3.061942e+09       4.10    223320  1.58816e+06   \n",
       "39    1.0      2.033       3.057302e+09       4.09    223341  1.58811e+06   \n",
       "40    1.0      2.028       3.050313e+09       4.08    223370  1.58811e+06   \n",
       "41    1.0      2.025       3.046055e+09       4.07    223577  1.58817e+06   \n",
       "42    1.0      2.023       3.042625e+09       4.06    223455  1.58815e+06   \n",
       "43    1.0      2.018       3.034386e+09       4.05    223631  1.58817e+06   \n",
       "44    1.0      2.014       3.029178e+09       4.04    223792  1.58819e+06   \n",
       "45    NaN        NaN                NaN        NaN       NaN          NaN   \n",
       "46    NaN        NaN                NaN        NaN       NaN          NaN   \n",
       "47    NaN        NaN                NaN        NaN       NaN          NaN   \n",
       "48    NaN        NaN                NaN        NaN       NaN          NaN   \n",
       "\n",
       "   valid_bsz  valid_num_updates valid_best_loss    update  humaneval_pass1  \n",
       "0     1918.3                750             NaN  0.016252              NaN  \n",
       "1     1918.3               1500             3.4  0.032504              NaN  \n",
       "2     1918.3               2250           2.858  0.048757              NaN  \n",
       "3     1918.3               3000           2.649  0.065009              NaN  \n",
       "4     1918.3               3750            2.53  0.081261              NaN  \n",
       "5     1918.3               4500           2.453  0.097513              NaN  \n",
       "6     1918.3               5250           2.398  0.113766              NaN  \n",
       "7     1918.3               6000           2.355  0.130018              7.3  \n",
       "8     1918.3               6750           2.321  0.146270              NaN  \n",
       "9     1918.3               7500           2.294  0.162522              NaN  \n",
       "10    1918.3               8250            2.27  0.178774              NaN  \n",
       "11    1918.3               9000           2.249  0.195027              7.9  \n",
       "12    1918.3               9750           2.233  0.211279              NaN  \n",
       "13    1918.3              10500           2.216  0.227531              NaN  \n",
       "14    1918.3              11250           2.202  0.243783              NaN  \n",
       "15    1918.3              12000           2.188  0.260036              NaN  \n",
       "16    1918.3              12750           2.176  0.276288              9.8  \n",
       "17    1918.3              13500           2.164  0.292540              NaN  \n",
       "18    1918.3              14250           2.155  0.308792              NaN  \n",
       "19    1918.3              15000           2.145  0.325044              NaN  \n",
       "20    1918.3              15750           2.137  0.341297             10.4  \n",
       "21    1918.3              16500           2.128  0.357549              NaN  \n",
       "22    1918.3              17250           2.121  0.373801              NaN  \n",
       "23    1918.3              18000           2.113  0.390053              NaN  \n",
       "24    1918.3              18750           2.107  0.406306              9.8  \n",
       "25    1918.3              19500           2.102  0.422558              NaN  \n",
       "26    1918.3              20250           2.095  0.438810              NaN  \n",
       "27    1918.3              21000           2.088  0.455062              NaN  \n",
       "28    1918.3              21750           2.083  0.471314              NaN  \n",
       "29    1918.3              22500           2.077  0.487567              NaN  \n",
       "30    1918.3              23250           2.072  0.503819             13.4  \n",
       "31    1918.3              24000           2.066  0.520071              NaN  \n",
       "32    1918.3              24750           2.062  0.536323              NaN  \n",
       "33    1918.3              25500           2.057  0.552575              NaN  \n",
       "34    1918.3              26250           2.052  0.568828             10.4  \n",
       "35    1918.3              27000           2.049  0.585080              NaN  \n",
       "36    1918.3              27750           2.044  0.601332              NaN  \n",
       "37    1918.3              28500            2.04  0.617584              NaN  \n",
       "38    1918.3              29250           2.036  0.633837              NaN  \n",
       "39    1918.3              30000           2.033  0.650089             12.8  \n",
       "40    1918.3              30750           2.028  0.666341              NaN  \n",
       "41    1918.3              31500           2.025  0.682593              NaN  \n",
       "42    1918.3              32250           2.023  0.698845              NaN  \n",
       "43    1918.3              33000           2.018  0.715098              NaN  \n",
       "44    1918.3              33750           2.014  0.731350             15.8  \n",
       "45       NaN              37000             NaN  0.801776             15.8  \n",
       "46       NaN              40000             NaN  0.866785             15.8  \n",
       "47       NaN              43000             NaN  0.931794             12.2  \n",
       "48       NaN              46000             NaN  0.996803             15.8  "
      ]
     },
     "execution_count": 15,
     "metadata": {},
     "output_type": "execute_result"
    }
   ],
   "source": [
    "cm_6B_valid_log"
   ]
  },
  {
   "cell_type": "code",
   "execution_count": 16,
   "id": "f666ebbe",
   "metadata": {},
   "outputs": [],
   "source": [
    "#lm1b_keys = ['lm-1b-clipped', 'lm-1b-py', 'lm-1b-py-so', 'lm-1b-gpt2-py-so', 'lm-2b', 'lm-2b-8e-4', \"lm-2b-16e-4\"]\n",
    "lm1b_keys = ['lm-1b-clipped', 'lm-2b', 'lm-2b-8e-4', \"lm-2b-16e-4\"]"
   ]
  },
  {
   "cell_type": "code",
   "execution_count": 17,
   "id": "ff1aba46",
   "metadata": {},
   "outputs": [
    {
     "data": {
      "text/plain": [
       "dict_keys(['lm-1b-clipped', 'cm-1b-eosblocked-128-scott', 'cm-6b', 'InCoder-6B', 'InCoder-1B', 'lm-1b-py', 'lm-1b-py-so', 'lm-1b-gpt2-py-so', 'bart-fsdp', 'bart-pytorch-ddp', 'bart-3-7', 'bart-3-8', 'bart-ddp-oldinit-4e-4', 'bart-ddp-oldinit-1e-4', 'bart-ddp-oldinit-2e-4', 'lm-2b', 'lm-2b-8e-4', 'lm-2b-16e-4'])"
      ]
     },
     "execution_count": 17,
     "metadata": {},
     "output_type": "execute_result"
    }
   ],
   "source": [
    "valid_logs.keys()"
   ]
  },
  {
   "cell_type": "code",
   "execution_count": 18,
   "id": "df9f9506",
   "metadata": {},
   "outputs": [],
   "source": [
    "import seaborn as sns"
   ]
  },
  {
   "cell_type": "code",
   "execution_count": 19,
   "id": "24c3a6f4",
   "metadata": {},
   "outputs": [],
   "source": [
    "sns.set(font_scale=1.2)\n",
    "sns.set_style(\"ticks\")\n",
    "sns.set_palette(sns.color_palette(\"colorblind\"))"
   ]
  },
  {
   "cell_type": "code",
   "execution_count": 20,
   "id": "64a524ec",
   "metadata": {},
   "outputs": [],
   "source": [
    "def plot(logs=train_logs, metric='loss', names=paths.keys(), smooth_window_size=None, x_key=None):\n",
    "    ax = plt.gca()\n",
    "    for name in names:\n",
    "        df = logs[name]\n",
    "        if x_key is None:\n",
    "            if 'num_updates' in df.columns:\n",
    "                x_key = 'num_updates'\n",
    "            else:\n",
    "                x_key = 'valid_num_updates'\n",
    "            x = df[x_key].map(int)\n",
    "        else:\n",
    "            x = df[x_key].map(float)\n",
    "        y = df[metric].map(float)\n",
    "        if smooth_window_size is not None:\n",
    "            x = x[:-smooth_window_size//2]\n",
    "            y = np.convolve(y, np.ones(smooth_window_size) / smooth_window_size, mode='same')[:-smooth_window_size//2]\n",
    "        sns.lineplot(x, y, ax=ax, label=name)\n",
    "#         ax.plot(x, y, label=name)\n",
    "    plt.ylabel(metric)\n",
    "    plt.legend()"
   ]
  },
  {
   "cell_type": "code",
   "execution_count": 21,
   "id": "a8c673f4",
   "metadata": {},
   "outputs": [
    {
     "data": {
      "text/plain": [
       "'/private/home/dpf/projects/htlm_2/fairseq-py/notebooks'"
      ]
     },
     "execution_count": 21,
     "metadata": {},
     "output_type": "execute_result"
    }
   ],
   "source": [
    "pwd"
   ]
  },
  {
   "cell_type": "code",
   "execution_count": 22,
   "id": "2d7e9964",
   "metadata": {},
   "outputs": [
    {
     "name": "stderr",
     "output_type": "stream",
     "text": [
      "/private/home/dpf/.conda/envs/analysis/lib/python3.8/site-packages/seaborn/_decorators.py:36: FutureWarning: Pass the following variables as keyword args: x, y. From version 0.12, the only valid positional argument will be `data`, and passing other arguments without an explicit keyword will result in an error or misinterpretation.\n",
      "  warnings.warn(\n",
      "/private/home/dpf/.conda/envs/analysis/lib/python3.8/site-packages/seaborn/_decorators.py:36: FutureWarning: Pass the following variables as keyword args: x, y. From version 0.12, the only valid positional argument will be `data`, and passing other arguments without an explicit keyword will result in an error or misinterpretation.\n",
      "  warnings.warn(\n"
     ]
    },
    {
     "data": {
      "image/png": "[encoded data removed]",
      "text/plain": [
       "<Figure size 432x288 with 1 Axes>"
      ]
     },
     "metadata": {},
     "output_type": "display_data"
    }
   ],
   "source": [
    "plt.figure()\n",
    "plot(valid_logs, 'valid_ppl', names=['InCoder-6B', 'InCoder-1B'])\n",
    "plt.xlabel(\"Number of Updates\")\n",
    "plt.ylabel(\"Validation Perplexity\")\n",
    "plt.ylim(3.8, 8)\n",
    "sns.despine()\n",
    "# plt.savefig(\"resources/training_ppl_all.pdf\", bbox_inches='tight', pad_inches=0)"
   ]
  },
  {
   "cell_type": "code",
   "execution_count": 23,
   "id": "7e051d51",
   "metadata": {},
   "outputs": [
    {
     "name": "stderr",
     "output_type": "stream",
     "text": [
      "/private/home/dpf/.conda/envs/analysis/lib/python3.8/site-packages/seaborn/_decorators.py:36: FutureWarning: Pass the following variables as keyword args: x, y. From version 0.12, the only valid positional argument will be `data`, and passing other arguments without an explicit keyword will result in an error or misinterpretation.\n",
      "  warnings.warn(\n",
      "/private/home/dpf/.conda/envs/analysis/lib/python3.8/site-packages/seaborn/_decorators.py:36: FutureWarning: Pass the following variables as keyword args: x, y. From version 0.12, the only valid positional argument will be `data`, and passing other arguments without an explicit keyword will result in an error or misinterpretation.\n",
      "  warnings.warn(\n"
     ]
    },
    {
     "data": {
      "image/png": "[encoded data removed]",
      "text/plain": [
       "<Figure size 432x288 with 1 Axes>"
      ]
     },
     "metadata": {},
     "output_type": "display_data"
    }
   ],
   "source": [
    "plt.figure()\n",
    "plot(valid_logs, 'valid_ppl', names=['InCoder-6B', 'InCoder-1B'], x_key='update')\n",
    "plt.xlabel(\"Fraction of Training Data\")\n",
    "plt.ylabel(\"Validation Perplexity\")\n",
    "plt.ylim(3.8, 8)\n",
    "sns.despine()\n",
    "# plt.savefig(\"resources/training_ppl_by_fraction.pdf\", bbox_inches='tight', pad_inches=0)"
   ]
  },
  {
   "cell_type": "code",
   "execution_count": 24,
   "id": "a85e4bba",
   "metadata": {},
   "outputs": [],
   "source": [
    "import numpy as np"
   ]
  },
  {
   "cell_type": "code",
   "execution_count": 25,
   "id": "a9433041",
   "metadata": {},
   "outputs": [
    {
     "name": "stdout",
     "output_type": "stream",
     "text": [
      "Automatic pdb calling has been turned ON\n"
     ]
    }
   ],
   "source": [
    "pdb on"
   ]
  },
  {
   "cell_type": "code",
   "execution_count": 26,
   "id": "4000374f",
   "metadata": {},
   "outputs": [
    {
     "data": {
      "text/plain": [
       "Index(['epoch', 'valid_loss', 'valid_summed_loss', 'valid_ppl', 'valid_wps',\n",
       "       'valid_wpb', 'valid_bsz', 'valid_num_updates', 'valid_best_loss',\n",
       "       'update', 'humaneval_pass1'],\n",
       "      dtype='object')"
      ]
     },
     "execution_count": 26,
     "metadata": {},
     "output_type": "execute_result"
    }
   ],
   "source": [
    "cm_6B_valid_log.columns"
   ]
  },
  {
   "cell_type": "code",
   "execution_count": 27,
   "id": "0996330e",
   "metadata": {},
   "outputs": [
    {
     "data": {
      "image/png": "[encoded data removed]",
      "text/plain": [
       "<Figure size 432x288 with 1 Axes>"
      ]
     },
     "metadata": {},
     "output_type": "display_data"
    }
   ],
   "source": [
    "sns.regplot(x='valid_num_updates', y='humaneval_pass1', data=cm_6B_valid_log)\n",
    "plt.xlabel(\"Number of Updates\")\n",
    "plt.ylabel(\"HumanEval Pass@1\")\n",
    "# plt.ylim(3.8, 8)\n",
    "sns.despine()\n",
    "plt.savefig(\"resources/humaneval_by_updates.pdf\", bbox_inches='tight', pad_inches=0)"
   ]
  },
  {
   "cell_type": "code",
   "execution_count": 28,
   "id": "0104050f",
   "metadata": {},
   "outputs": [
    {
     "data": {
      "image/png": "[encoded data removed]",
      "text/plain": [
       "<Figure size 432x288 with 1 Axes>"
      ]
     },
     "metadata": {},
     "output_type": "display_data"
    }
   ],
   "source": [
    "sns.regplot(x='update', y='humaneval_pass1', data=cm_6B_valid_log)\n",
    "plt.xlabel(\"Fraction of Training Data\")\n",
    "plt.ylabel(\"HumanEval Pass@1\")\n",
    "# plt.ylim(3.8, 8)\n",
    "sns.despine()\n",
    "plt.savefig(\"resources/humaneval_by_fraction.pdf\", bbox_inches='tight', pad_inches=0)"
   ]
  },
  {
   "cell_type": "code",
   "execution_count": null,
   "id": "108b1935",
   "metadata": {},
   "outputs": [],
   "source": [
    "pandas.join(valid_logs['cm-6b'], )"
   ]
  },
  {
   "cell_type": "markdown",
   "id": "5fc223f0",
   "metadata": {},
   "source": [
    "# OLD LOG ANALYSIS"
   ]
  },
  {
   "cell_type": "code",
   "execution_count": 16,
   "id": "169b3863",
   "metadata": {},
   "outputs": [],
   "source": [
    "bart_keys = ['bart-fsdp', 'bart-pytorch-ddp', 'bart-3-7', 'bart-3-8', 'bart-ddp-oldinit-4e-4', 'bart-ddp-oldinit-2e-4', 'bart-ddp-oldinit-1e-4']\n",
    "# bart_keys = ['bart-fsdp', 'bart-pytorch-ddp', 'bart-3-7', 'bart-3-8', 'bart-ddp-oldinit-4e-4', 'bart-ddp-oldinit-1e-4']"
   ]
  },
  {
   "cell_type": "code",
   "execution_count": 17,
   "id": "9c8c3516",
   "metadata": {},
   "outputs": [
    {
     "data": {
      "text/plain": [
       "(10000000.0, 30000000.0)"
      ]
     },
     "execution_count": 17,
     "metadata": {},
     "output_type": "execute_result"
    },
    {
     "data": {
      "image/png": "[encoded data removed]",
      "text/plain": [
       "<Figure size 432x288 with 1 Axes>"
      ]
     },
     "metadata": {
      "needs_background": "light"
     },
     "output_type": "display_data"
    }
   ],
   "source": [
    "# plt.figure(figsize=(12,10))\n",
    "#plot(train_logs, 'loss', smooth_window_size=10, names=['cm-1b-eosblocked-128-scott', 'cm-6b'])\n",
    "# plot(train_logs, 'loss', smooth_window_size=10)\n",
    "#plot(train_logs, 'loss', smooth_window_size=10, names=['bart-fsdp', 'bart-pytorch-ddp'])\n",
    "plot(train_logs, 'summed_loss', names=lm1b_keys)\n",
    "plt.ylim(1e7, 3e7)"
   ]
  },
  {
   "cell_type": "code",
   "execution_count": 18,
   "id": "4823d54b",
   "metadata": {},
   "outputs": [
    {
     "data": {
      "text/plain": [
       "(2.0, 5.0)"
      ]
     },
     "execution_count": 18,
     "metadata": {},
     "output_type": "execute_result"
    },
    {
     "data": {
      "image/png": "[encoded data removed]",
      "text/plain": [
       "<Figure size 432x288 with 1 Axes>"
      ]
     },
     "metadata": {
      "needs_background": "light"
     },
     "output_type": "display_data"
    }
   ],
   "source": [
    "# plt.figure(figsize=(12,10))\n",
    "#plot(train_logs, 'loss', smooth_window_size=10, names=['cm-1b-eosblocked-128-scott', 'cm-6b'])\n",
    "# plot(train_logs, 'loss', smooth_window_size=10)\n",
    "#plot(train_logs, 'loss', smooth_window_size=10, names=['bart-fsdp', 'bart-pytorch-ddp'])\n",
    "plot(train_logs, 'ppl', names=lm1b_keys)\n",
    "plt.ylim(2, 5)"
   ]
  },
  {
   "cell_type": "code",
   "execution_count": 19,
   "id": "834c4773",
   "metadata": {},
   "outputs": [],
   "source": [
    "import numpy as np"
   ]
  },
  {
   "cell_type": "code",
   "execution_count": 20,
   "id": "a7ba934c",
   "metadata": {},
   "outputs": [
    {
     "data": {
      "text/plain": [
       "(0.0, 0.2)"
      ]
     },
     "execution_count": 20,
     "metadata": {},
     "output_type": "execute_result"
    },
    {
     "data": {
      "image/png": "[encoded data removed]",
      "text/plain": [
       "<Figure size 432x288 with 1 Axes>"
      ]
     },
     "metadata": {
      "needs_background": "light"
     },
     "output_type": "display_data"
    }
   ],
   "source": [
    "plt.figure()\n",
    "# plot(train_logs, 'gnorm', smooth_window_size=10, names=['cm-1b-eosblocked-128-scott', 'cm-6b'])\n",
    "# plot(train_logs, 'gnorm', smooth_window_size=10, names=bart_keys)\n",
    "plot(train_logs, 'gnorm', smooth_window_size=10, names=lm1b_keys)\n",
    "plt.ylim(0,0.2)"
   ]
  },
  {
   "cell_type": "code",
   "execution_count": 21,
   "id": "05284939",
   "metadata": {
    "scrolled": true
   },
   "outputs": [
    {
     "data": {
      "image/png": "[encoded data removed]",
      "text/plain": [
       "<Figure size 432x288 with 1 Axes>"
      ]
     },
     "metadata": {
      "needs_background": "light"
     },
     "output_type": "display_data"
    }
   ],
   "source": [
    "plt.figure()\n",
    "# plot(valid_logs, 'valid_loss', names=['cm-1b-eosblocked-128-scott', 'cm-6b'])\n",
    "plot(valid_logs, 'valid_loss', names=bart_keys)\n",
    "# plt.ylim(0, 5)"
   ]
  },
  {
   "cell_type": "code",
   "execution_count": 19,
   "id": "122d9440",
   "metadata": {},
   "outputs": [
    {
     "data": {
      "text/plain": [
       "(4.0, 6.0)"
      ]
     },
     "execution_count": 19,
     "metadata": {},
     "output_type": "execute_result"
    },
    {
     "data": {
      "image/png": "[encoded data removed]",
      "text/plain": [
       "<Figure size 432x288 with 1 Axes>"
      ]
     },
     "metadata": {
      "needs_background": "light"
     },
     "output_type": "display_data"
    }
   ],
   "source": [
    "plt.figure()\n",
    "# plot(valid_logs, 'valid_ppl', names=['cm-1b-eosblocked-128-scott', 'cm-6b'])\n",
    "plot(valid_logs, 'valid_ppl', names=lm1b_keys)\n",
    "plt.ylim(4, 6)"
   ]
  },
  {
   "cell_type": "code",
   "execution_count": 136,
   "id": "ad612b2a",
   "metadata": {},
   "outputs": [
    {
     "data": {
      "image/png": "[encoded data removed]",
      "text/plain": [
       "<Figure size 432x288 with 1 Axes>"
      ]
     },
     "metadata": {
      "needs_background": "light"
     },
     "output_type": "display_data"
    }
   ],
   "source": [
    "plot(train_logs, 'lr', names=lm1b_keys)\n",
    "# plt.ylim(1, 5)"
   ]
  }
 ],
 "metadata": {
  "kernelspec": {
   "display_name": "Python 3 (ipykernel)",
   "language": "python",
   "name": "python3"
  },
  "language_info": {
   "codemirror_mode": {
    "name": "ipython",
    "version": 3
   },
   "file_extension": ".py",
   "mimetype": "text/x-python",
   "name": "python",
   "nbconvert_exporter": "python",
   "pygments_lexer": "ipython3",
   "version": "3.8.12"
  }
 },
 "nbformat": 4,
 "nbformat_minor": 5
}
