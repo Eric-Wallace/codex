{
 "cells": [
  {
   "cell_type": "code",
   "execution_count": 1,
   "metadata": {},
   "outputs": [
    {
     "name": "stdout",
     "output_type": "stream",
     "text": [
      "/private/home/dpf/projects/codex\n"
     ]
    }
   ],
   "source": [
    "cd /private/home/dpf/projects/codex"
   ]
  },
  {
   "cell_type": "code",
   "execution_count": 2,
   "metadata": {},
   "outputs": [
    {
     "name": "stderr",
     "output_type": "stream",
     "text": [
      "INFO:numexpr.utils:Note: detected 80 virtual cores but NumExpr set to maximum of 64, check \"NUMEXPR_MAX_THREADS\" environment variable.\n",
      "INFO:numexpr.utils:Note: NumExpr detected 80 cores but \"NUMEXPR_MAX_THREADS\" not set, so enforcing safe limit of 8.\n",
      "INFO:numexpr.utils:NumExpr defaulting to 8 threads.\n"
     ]
    },
    {
     "name": "stdout",
     "output_type": "stream",
     "text": [
      "Namespace(batch_size=1, beam=1, candidate_scoring='mean', max_tokens=450, model_name=None, prompt_prefix=None, temperature=0.6, tokenizer_name=None, top_p=0.95)\n"
     ]
    }
   ],
   "source": [
    "from models import PLBart\n",
    "from models import add_model_args\n",
    "from argparse import ArgumentParser\n",
    "parser = ArgumentParser()\n",
    "add_model_args(parser)\n",
    "args = parser.parse_args([])\n",
    "print(args)"
   ]
  },
  {
   "cell_type": "code",
   "execution_count": 3,
   "metadata": {},
   "outputs": [
    {
     "name": "stderr",
     "output_type": "stream",
     "text": [
      "2022-07-31 12:54:05.316229: W tensorflow/stream_executor/platform/default/dso_loader.cc:64] Could not load dynamic library 'libcudart.so.11.0'; dlerror: libcudart.so.11.0: cannot open shared object file: No such file or directory; LD_LIBRARY_PATH: :/public/slurm/20.11.8/lib\n",
      "2022-07-31 12:54:05.316255: I tensorflow/stream_executor/cuda/cudart_stub.cc:29] Ignore above cudart dlerror if you do not have a GPU set up on your machine.\n"
     ]
    }
   ],
   "source": [
    "model = PLBart(args)"
   ]
  },
  {
   "cell_type": "code",
   "execution_count": 4,
   "metadata": {},
   "outputs": [
    {
     "data": {
      "text/plain": [
       "device(type='cuda', index=0)"
      ]
     },
     "execution_count": 4,
     "metadata": {},
     "output_type": "execute_result"
    }
   ],
   "source": [
    "model.lm_model.device"
   ]
  },
  {
   "cell_type": "code",
   "execution_count": 5,
   "metadata": {},
   "outputs": [],
   "source": [
    "from infill_evaluation import generate_he_infill_problems\n",
    "problems = list(generate_he_infill_problems(args, \"one_line\"))"
   ]
  },
  {
   "cell_type": "code",
   "execution_count": 6,
   "metadata": {},
   "outputs": [],
   "source": [
    "from models import TruncationParameters"
   ]
  },
  {
   "cell_type": "code",
   "execution_count": 7,
   "metadata": {},
   "outputs": [
    {
     "name": "stdout",
     "output_type": "stream",
     "text": [
      "['from typing import List\\n\\n\\ndef has_close_elements(numbers: List[float], threshold: float) -> bool:\\n    \"\"\" Check if in given list of numbers, are any two numbers closer to each other than\\n    given threshold.\\n    >>> has_close_elements([1.0, 2.0, 3.0], 0.5)\\n    False\\n    >>> has_close_elements([1.0, 2.8, 3.0, 4.0, 5.0, 2.0], 0.3)\\n    True\\n    \"\"\"\\n    for idx, elem in enumerate(numbers):\\n        for idx2, elem2 in enumerate(numbers):\\n            if idx != idx2:\\n', '                if distance < threshold:\\n                    return True\\n\\n    return False']\n"
     ]
    }
   ],
   "source": [
    "infilling_problem = problems[0][1][3]\n",
    "parts = infilling_problem[\"prompt_parts\"]\n",
    "prefix, suffix = parts\n",
    "truncation_parameters = [\n",
    "    TruncationParameters.from_heuristics([\"num_lines\"], infilling_problem[\"missing_lines\"], suffix)\n",
    "]\n",
    "print(parts)"
   ]
  },
  {
   "cell_type": "code",
   "execution_count": 8,
   "metadata": {},
   "outputs": [
    {
     "data": {
      "text/plain": [
       "2"
      ]
     },
     "execution_count": 8,
     "metadata": {},
     "output_type": "execute_result"
    }
   ],
   "source": [
    "len(parts)"
   ]
  },
  {
   "cell_type": "code",
   "execution_count": 9,
   "metadata": {},
   "outputs": [],
   "source": [
    "results = model.infill(parts, truncation_parameters, sampling=True, temperature=0.2, top_p=0.95)"
   ]
  },
  {
   "cell_type": "code",
   "execution_count": 10,
   "metadata": {},
   "outputs": [
    {
     "data": {
      "text/plain": [
       "dict_keys(['prompt_parts', 'choices'])"
      ]
     },
     "execution_count": 10,
     "metadata": {},
     "output_type": "execute_result"
    }
   ],
   "source": [
    "results.keys()"
   ]
  },
  {
   "cell_type": "code",
   "execution_count": 11,
   "metadata": {},
   "outputs": [
    {
     "data": {
      "text/plain": [
       "'            '"
      ]
     },
     "execution_count": 11,
     "metadata": {},
     "output_type": "execute_result"
    }
   ],
   "source": [
    "results['choices'][0]['complete'][1]"
   ]
  },
  {
   "cell_type": "code",
   "execution_count": 17,
   "metadata": {},
   "outputs": [
    {
     "data": {
      "text/plain": [
       "'            \\n                continue\\n            distance = elem - elem2\\n            if distance < threshold :\\n                return True\\n            if distance < threshold :\\n                return True\\nreturn False\\n'"
      ]
     },
     "execution_count": 17,
     "metadata": {},
     "output_type": "execute_result"
    }
   ],
   "source": [
    "results['choices'][0]['infills_untruncated'][0]"
   ]
  },
  {
   "cell_type": "code",
   "execution_count": 13,
   "metadata": {},
   "outputs": [
    {
     "name": "stdout",
     "output_type": "stream",
     "text": [
      "from typing import List\n",
      "\n",
      "\n",
      "def has_close_elements(numbers: List[float], threshold: float) -> bool:\n",
      "    \"\"\" Check if in given list of numbers, are any two numbers closer to each other than\n",
      "    given threshold.\n",
      "    >>> has_close_elements([1.0, 2.0, 3.0], 0.5)\n",
      "    False\n",
      "    >>> has_close_elements([1.0, 2.8, 3.0, 4.0, 5.0, 2.0], 0.3)\n",
      "    True\n",
      "    \"\"\"\n",
      "    for idx, elem in enumerate(numbers):\n",
      "        for idx2, elem2 in enumerate(numbers):\n",
      "            if idx != idx2:\n",
      "\n",
      "-----\n",
      "                if distance < threshold:\n",
      "                    return True\n",
      "\n",
      "    return False\n"
     ]
    }
   ],
   "source": [
    "print(parts[0])\n",
    "print(\"-----\")\n",
    "print(parts[1])"
   ]
  },
  {
   "cell_type": "code",
   "execution_count": 21,
   "metadata": {},
   "outputs": [
    {
     "name": "stdout",
     "output_type": "stream",
     "text": [
      "python<s> typing import List NEW_LINE def has_close_elements ( numbers : List [ float ], threshold : float ) -> bool : NEW_LINE INDENT \"\"\" Check if in given list of numbers, are any two numbers closer to each other than STRNEWLINE given threshold. STRNEWLINE > > > has _ close _ elements ( [1.0, 2.0, 3.0 ], 0.5 ) STRNEWLINE False STRNEWLINE > > > has _ close _ elements ( [1.0, 2.8, 3.0, 4.0, 5.0, 2.0 ], 0.3 ) STRNEWLINE True STRNEWLINE \"\"\" NEW_LINE for idx, elem in enumerate ( numbers ) : NEW_LINE INDENT for idx2, elem2 in enumerate ( numbers ) : NEW_LINE INDENT if idx!= idx2 : NEW_LINE INDENT continue NEW_LINE DEDENT distance = elem - elem2 NEW_LINE if distance < threshold : NEW_LINE INDENT return True NEW_LINE DEDENT if distance < threshold : NEW_LINE INDENT return True NEW_LINE DEDENT DEDENT DEDENT DEDENT return False NEW_LINE DEDENT</s>\n"
     ]
    }
   ],
   "source": [
    "print(results['choices'][0]['generated_text'][0])"
   ]
  },
  {
   "cell_type": "code",
   "execution_count": 19,
   "metadata": {},
   "outputs": [
    {
     "name": "stdout",
     "output_type": "stream",
     "text": [
      "python<s> typing import List\n",
      "def has_close_elements ( numbers : List [ float ], threshold : float ) -> bool :\n",
      "    \"\"\"Checkifingivenlistofnumbers,areanytwonumbersclosertoeachotherthan\n",
      "giventhreshold.\n",
      ">>>has_close_elements([1.0,2.0,3.0],0.5)\n",
      "False\n",
      ">>>has_close_elements([1.0,2.8,3.0,4.0,5.0,2.0],0.3)\n",
      "True\n",
      "\"\"\"\n",
      "    for idx, elem in enumerate ( numbers ) :\n",
      "        for idx2, elem2 in enumerate ( numbers ) :\n",
      "            if idx!= idx2 :\n",
      "                continue\n",
      "            distance = elem - elem2\n",
      "            if distance < threshold :\n",
      "                return True\n",
      "            if distance < threshold :\n",
      "                return True\n",
      "return False\n",
      "</s>\n"
     ]
    }
   ],
   "source": [
    "from plbart_utils import detokenize_code\n",
    "print(detokenize_code('\\n'.join(results['choices'][0]['generated_text']))[0])"
   ]
  },
  {
   "cell_type": "code",
   "execution_count": 15,
   "metadata": {},
   "outputs": [
    {
     "data": {
      "text/plain": [
       "{'task_id': 'HumanEval/0',\n",
       " 'num_before': 3,\n",
       " 'num_after': 4,\n",
       " 'missing_lines': '                distance = abs(elem - elem2)',\n",
       " 'prompt_parts': ['from typing import List\\n\\n\\ndef has_close_elements(numbers: List[float], threshold: float) -> bool:\\n    \"\"\" Check if in given list of numbers, are any two numbers closer to each other than\\n    given threshold.\\n    >>> has_close_elements([1.0, 2.0, 3.0], 0.5)\\n    False\\n    >>> has_close_elements([1.0, 2.8, 3.0, 4.0, 5.0, 2.0], 0.3)\\n    True\\n    \"\"\"\\n    for idx, elem in enumerate(numbers):\\n        for idx2, elem2 in enumerate(numbers):\\n            if idx != idx2:\\n',\n",
       "  '                if distance < threshold:\\n                    return True\\n\\n    return False'],\n",
       " 'canonical_solution': '    for idx, elem in enumerate(numbers):\\n        for idx2, elem2 in enumerate(numbers):\\n            if idx != idx2:\\n                distance = abs(elem - elem2)\\n                if distance < threshold:\\n                    return True\\n\\n    return False\\n'}"
      ]
     },
     "execution_count": 15,
     "metadata": {},
     "output_type": "execute_result"
    }
   ],
   "source": [
    "infilling_problem"
   ]
  },
  {
   "cell_type": "code",
   "execution_count": 16,
   "metadata": {},
   "outputs": [
    {
     "name": "stdout",
     "output_type": "stream",
     "text": [
      "from typing import List\n",
      "\n",
      "\n",
      "def has_close_elements(numbers: List[float], threshold: float) -> bool:\n",
      "    \"\"\" Check if in given list of numbers, are any two numbers closer to each other than\n",
      "    given threshold.\n",
      "    >>> has_close_elements([1.0, 2.0, 3.0], 0.5)\n",
      "    False\n",
      "    >>> has_close_elements([1.0, 2.8, 3.0, 4.0, 5.0, 2.0], 0.3)\n",
      "    True\n",
      "    \"\"\"\n",
      "    for idx, elem in enumerate(numbers):\n",
      "        for idx2, elem2 in enumerate(numbers):\n",
      "            if idx != idx2:\n",
      "\n",
      "            \n",
      "                if distance < threshold:\n",
      "                    return True\n",
      "\n",
      "    return False\n"
     ]
    }
   ],
   "source": [
    "print('\\n'.join(results['choices'][0]['complete']))"
   ]
  },
  {
   "cell_type": "code",
   "execution_count": null,
   "metadata": {},
   "outputs": [],
   "source": []
  }
 ],
 "metadata": {
  "kernelspec": {
   "display_name": "Python 3.7.11 ('codex')",
   "language": "python",
   "name": "python3"
  },
  "language_info": {
   "codemirror_mode": {
    "name": "ipython",
    "version": 3
   },
   "file_extension": ".py",
   "mimetype": "text/x-python",
   "name": "python",
   "nbconvert_exporter": "python",
   "pygments_lexer": "ipython3",
   "version": "3.7.11"
  },
  "orig_nbformat": 4,
  "vscode": {
   "interpreter": {
    "hash": "33642473de001e394c96d0b27340e363ab41aab8532d51e79048c74511e8a1c6"
   }
  }
 },
 "nbformat": 4,
 "nbformat_minor": 2
}
