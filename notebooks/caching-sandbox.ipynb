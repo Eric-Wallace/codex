{
 "cells": [
  {
   "cell_type": "code",
   "execution_count": 1,
   "id": "f1f506b1",
   "metadata": {},
   "outputs": [
    {
     "name": "stdout",
     "output_type": "stream",
     "text": [
      "/private/home/dpf/projects/codex\n"
     ]
    }
   ],
   "source": [
    "cd /private/home/dpf/projects/codex"
   ]
  },
  {
   "cell_type": "code",
   "execution_count": 2,
   "id": "19bffe86",
   "metadata": {},
   "outputs": [],
   "source": [
    "from models import *"
   ]
  },
  {
   "cell_type": "code",
   "execution_count": 3,
   "id": "f390aa02",
   "metadata": {},
   "outputs": [],
   "source": [
    "%load_ext autoreload\n",
    "%autoreload 2"
   ]
  },
  {
   "cell_type": "code",
   "execution_count": 4,
   "id": "3b0f76e7",
   "metadata": {},
   "outputs": [],
   "source": [
    "from he import make_parser, HUMAN_EVAL_STOP_WORDS\n",
    "import shlex\n",
    "import pprint"
   ]
  },
  {
   "cell_type": "code",
   "execution_count": 5,
   "id": "644610c0",
   "metadata": {},
   "outputs": [],
   "source": [
    "parser = make_parser()"
   ]
  },
  {
   "cell_type": "code",
   "execution_count": 6,
   "id": "b2487df8",
   "metadata": {},
   "outputs": [],
   "source": [
    "args = parser.parse_args(shlex.split(\"--model_name /checkpoint/dpf/models/cm-6B-armen/checkpoint_last_consolidated.pt --num_candidates_generated 1 --num_candidates_evaluated 1 --batch_size 3 --temperature 0.2 --top_p 0.95 --output_filename expts/he/lm-1.3B-ourtok_last_ncg-1_temp-0.2/prompt_pyfile_normalized/samples.jsonl --response_filename expts/he/lm-1.3B-ourtok_last_ncg-1_temp-0.2/prompt_pyfile_normalized/responses.pkl --prompt_prefix '<| file ext=.py |>' --tokenizer_name gpt2_pretokenization_newlines_only\"))"
   ]
  },
  {
   "cell_type": "code",
   "execution_count": 7,
   "id": "0d54f5b0",
   "metadata": {},
   "outputs": [
    {
     "name": "stdout",
     "output_type": "stream",
     "text": [
      "{'batch_size': 3,\n",
      " 'beam': 1,\n",
      " 'cached_responses': False,\n",
      " 'candidate_scoring': 'mean',\n",
      " 'git_status': False,\n",
      " 'max_tokens': 450,\n",
      " 'model_name': '/checkpoint/dpf/models/cm-6B-armen/checkpoint_last_consolidated.pt',\n",
      " 'multiple_cached_responses_filenames': None,\n",
      " 'num_candidates_evaluated': 1,\n",
      " 'num_candidates_generated': 1,\n",
      " 'num_problems': None,\n",
      " 'output_filename': 'expts/he/lm-1.3B-ourtok_last_ncg-1_temp-0.2/prompt_pyfile_normalized/samples.jsonl',\n",
      " 'prompt_prefix': '<| file ext=.py |>',\n",
      " 'remove_test_cases': False,\n",
      " 'response_filename': 'expts/he/lm-1.3B-ourtok_last_ncg-1_temp-0.2/prompt_pyfile_normalized/responses.pkl',\n",
      " 'temperature': 0.2,\n",
      " 'tokenizer_name': 'gpt2_pretokenization_newlines_only',\n",
      " 'top_p': 0.95,\n",
      " 'verbose': False}\n"
     ]
    }
   ],
   "source": [
    "pprint.pprint(vars(args))"
   ]
  },
  {
   "cell_type": "code",
   "execution_count": 12,
   "id": "e6b5645d",
   "metadata": {},
   "outputs": [
    {
     "name": "stderr",
     "output_type": "stream",
     "text": [
      "WARNING:root:Pytorch pre-release version 1.8.0a0+37c1f4a - assuming intent to test it\n",
      "WARNING:root:Torch AMP is not available on this platform\n"
     ]
    },
    {
     "name": "stdout",
     "output_type": "stream",
     "text": [
      "model_root_dir: /checkpoint/dpf/models/cm-6B-armen\n",
      "model_basename: checkpoint_last_consolidated.pt\n",
      "dictionary size: 50518\n",
      "Detected CUDA files, patching ldflags\n",
      "Emitting ninja build file /private/home/dpf/projects/Megatron-LM/megatron/fused_kernels/build/build.ninja...\n",
      "Building extension module fused_mix_prec_layer_norm_cuda...\n",
      "Allowing ninja to set a default number of workers... (overridable by setting the environment variable MAX_JOBS=N)\n",
      "ninja: no work to do.\n",
      "Loading extension module fused_mix_prec_layer_norm_cuda...\n"
     ]
    }
   ],
   "source": [
    "model = make_model(args)"
   ]
  },
  {
   "cell_type": "code",
   "execution_count": 14,
   "id": "332421fa",
   "metadata": {},
   "outputs": [],
   "source": [
    "from priming_generator import TopPSampling, GreedyDecoding"
   ]
  },
  {
   "cell_type": "code",
   "execution_count": 17,
   "id": "ca05f638",
   "metadata": {},
   "outputs": [],
   "source": [
    "decoder = TopPSampling(model.lm_model, min_len=10, max_len=128, sampling_topp=0.95, temperature=0.6, show_tqdm=True).cuda()"
   ]
  },
  {
   "cell_type": "code",
   "execution_count": 15,
   "id": "c1c069aa",
   "metadata": {},
   "outputs": [],
   "source": [
    "greedy = GreedyDecoding(model.lm_model, min_len=10, max_len=128, temperature=1.0, show_tqdm=True).cuda()"
   ]
  },
  {
   "cell_type": "code",
   "execution_count": 16,
   "id": "7937bd4c",
   "metadata": {},
   "outputs": [],
   "source": [
    "import copy"
   ]
  },
  {
   "cell_type": "code",
   "execution_count": 18,
   "id": "1fc710a0",
   "metadata": {},
   "outputs": [
    {
     "name": "stdout",
     "output_type": "stream",
     "text": [
      "Automatic pdb calling has been turned ON\n"
     ]
    }
   ],
   "source": [
    "pdb on"
   ]
  },
  {
   "cell_type": "code",
   "execution_count": 36,
   "id": "3bd31ee3",
   "metadata": {},
   "outputs": [],
   "source": [
    "encoded_prompt = model._encode('<| file filename=train_model.py |>\\n', strip_eos=True).to(model.lm_model.device)"
   ]
  },
  {
   "cell_type": "code",
   "execution_count": 37,
   "id": "c7141ea3",
   "metadata": {},
   "outputs": [
    {
     "name": "stderr",
     "output_type": "stream",
     "text": [
      "100%|██████████████████████████████████████████████████████████████████████████████████████████████████████████████████████████████████████████████| 15/15 [00:01<00:00, 14.81it/s]\n"
     ]
    }
   ],
   "source": [
    "greedy.max_len = 16\n",
    "rets = greedy.decode_multiple_candidates(encoded_prompt, incremental_states=None, return_incremental_states=True)"
   ]
  },
  {
   "cell_type": "code",
   "execution_count": 38,
   "id": "3a2c3721",
   "metadata": {},
   "outputs": [
    {
     "name": "stdout",
     "output_type": "stream",
     "text": [
      "<| file filename=train_model.py |>\n",
      "\"\"\"\n",
      "This script trains a model \n"
     ]
    }
   ],
   "source": [
    "print(model._decode(rets[0].squeeze()[1:].tolist()))"
   ]
  },
  {
   "cell_type": "code",
   "execution_count": 39,
   "id": "9d558bbf",
   "metadata": {},
   "outputs": [
    {
     "name": "stderr",
     "output_type": "stream",
     "text": [
      "100%|██████████████████████████████████████████████████████████████████████████████████████████████████████████████████████████████████████████████| 16/16 [00:01<00:00, 14.85it/s]\n"
     ]
    }
   ],
   "source": [
    "greedy.max_len = 32\n",
    "rets_2 = greedy.decode_multiple_candidates(\n",
    "    rets[0].squeeze(),\n",
    "    incremental_states=rets[-1],\n",
    "    return_incremental_states=True\n",
    ")"
   ]
  },
  {
   "cell_type": "code",
   "execution_count": 40,
   "id": "b8ca3b72",
   "metadata": {},
   "outputs": [
    {
     "name": "stdout",
     "output_type": "stream",
     "text": [
      "<| file filename=train_model.py |>\n",
      "\"\"\"\n",
      "This script trains a model using all available data.\n",
      "\"\"\"\n",
      "\n",
      "import os\n",
      "import sys\n",
      "import argparse\n",
      "import importlib\n",
      "\n"
     ]
    }
   ],
   "source": [
    "print(model._decode(rets_2[0].squeeze()[1:].tolist()))"
   ]
  }
 ],
 "metadata": {
  "kernelspec": {
   "display_name": "Python 3 (ipykernel)",
   "language": "python",
   "name": "python3"
  },
  "language_info": {
   "codemirror_mode": {
    "name": "ipython",
    "version": 3
   },
   "file_extension": ".py",
   "mimetype": "text/x-python",
   "name": "python",
   "nbconvert_exporter": "python",
   "pygments_lexer": "ipython3",
   "version": "3.8.8"
  }
 },
 "nbformat": 4,
 "nbformat_minor": 5
}
