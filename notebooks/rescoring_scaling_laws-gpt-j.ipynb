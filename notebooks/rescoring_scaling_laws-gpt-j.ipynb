{
 "cells": [
  {
   "cell_type": "code",
   "execution_count": 1,
   "id": "7d660daa",
   "metadata": {},
   "outputs": [],
   "source": [
    "temperature = 0.8\n",
    "root_folder = f'/private/home/dpf/projects/codex/'\n",
    "globs = f'out/gpt-j_ncg-20_temp-{temperature}/default_*/responses.pkl'"
   ]
  },
  {
   "cell_type": "code",
   "execution_count": 2,
   "id": "6ed16d46",
   "metadata": {},
   "outputs": [],
   "source": [
    "import sys"
   ]
  },
  {
   "cell_type": "code",
   "execution_count": 3,
   "id": "8d333948",
   "metadata": {},
   "outputs": [],
   "source": [
    "sys.path.append(root_folder)"
   ]
  },
  {
   "cell_type": "code",
   "execution_count": 4,
   "id": "ee52f893",
   "metadata": {},
   "outputs": [],
   "source": [
    "import glob\n",
    "import pickle\n",
    "import os"
   ]
  },
  {
   "cell_type": "code",
   "execution_count": 5,
   "id": "2f080991",
   "metadata": {},
   "outputs": [
    {
     "name": "stderr",
     "output_type": "stream",
     "text": [
      "couldn't import torch; won't be able to use most models\n"
     ]
    }
   ],
   "source": [
    "from models import Model"
   ]
  },
  {
   "cell_type": "code",
   "execution_count": 6,
   "id": "36dab0dc",
   "metadata": {},
   "outputs": [],
   "source": [
    "import numpy as np"
   ]
  },
  {
   "cell_type": "code",
   "execution_count": 7,
   "id": "f3e0e43d",
   "metadata": {},
   "outputs": [],
   "source": [
    "from human_eval.data import read_problems\n",
    "from human_eval.evaluation import evaluate_functional_correctness"
   ]
  },
  {
   "cell_type": "code",
   "execution_count": 8,
   "id": "d369abd4",
   "metadata": {},
   "outputs": [],
   "source": [
    "def unpickle(fname):\n",
    "    print(fname)\n",
    "    with open(fname, 'rb') as f:\n",
    "        return pickle.load(f)"
   ]
  },
  {
   "cell_type": "code",
   "execution_count": 9,
   "id": "7fe5d7f7",
   "metadata": {},
   "outputs": [],
   "source": [
    "def all_equal(xs):\n",
    "    xs = list(xs)\n",
    "    return [x == xs[0] for x in xs]"
   ]
  },
  {
   "cell_type": "code",
   "execution_count": 10,
   "id": "42a05761",
   "metadata": {},
   "outputs": [],
   "source": [
    "def combine_responses(list_of_responses):\n",
    "    list_of_responses = list(list_of_responses)\n",
    "    assert all_equal(resp.keys() for resp in list_of_responses)\n",
    "    responses = {}\n",
    "    for resp in list_of_responses:\n",
    "        for problem_id in resp:\n",
    "            if problem_id not in responses:\n",
    "                responses[problem_id] = {'choices': []}\n",
    "            responses[problem_id]['choices'].extend(resp[problem_id]['choices'])\n",
    "    return responses"
   ]
  },
  {
   "cell_type": "code",
   "execution_count": 11,
   "id": "4fb2fc89",
   "metadata": {},
   "outputs": [
    {
     "name": "stdout",
     "output_type": "stream",
     "text": [
      "Automatic pdb calling has been turned ON\n"
     ]
    }
   ],
   "source": [
    "pdb on"
   ]
  },
  {
   "cell_type": "code",
   "execution_count": 12,
   "id": "d7538ea0",
   "metadata": {},
   "outputs": [
    {
     "name": "stdout",
     "output_type": "stream",
     "text": [
      "/private/home/dpf/projects/codex/out/gpt-j_ncg-20_temp-0.8/default_1/responses.pkl\n",
      "/private/home/dpf/projects/codex/out/gpt-j_ncg-20_temp-0.8/default_6/responses.pkl\n",
      "/private/home/dpf/projects/codex/out/gpt-j_ncg-20_temp-0.8/default_2/responses.pkl\n",
      "/private/home/dpf/projects/codex/out/gpt-j_ncg-20_temp-0.8/default_8/responses.pkl\n",
      "/private/home/dpf/projects/codex/out/gpt-j_ncg-20_temp-0.8/default_7/responses.pkl\n",
      "/private/home/dpf/projects/codex/out/gpt-j_ncg-20_temp-0.8/default_10/responses.pkl\n",
      "/private/home/dpf/projects/codex/out/gpt-j_ncg-20_temp-0.8/default_4/responses.pkl\n",
      "/private/home/dpf/projects/codex/out/gpt-j_ncg-20_temp-0.8/default_3/responses.pkl\n",
      "/private/home/dpf/projects/codex/out/gpt-j_ncg-20_temp-0.8/default_5/responses.pkl\n",
      "/private/home/dpf/projects/codex/out/gpt-j_ncg-20_temp-0.8/default_9/responses.pkl\n"
     ]
    }
   ],
   "source": [
    "responses = combine_responses(\n",
    "    unpickle(fname) for fname in glob.glob(os.path.join(root_folder, globs))\n",
    ")"
   ]
  },
  {
   "cell_type": "code",
   "execution_count": 13,
   "id": "bfe48db7",
   "metadata": {},
   "outputs": [
    {
     "data": {
      "text/plain": [
       "200"
      ]
     },
     "execution_count": 13,
     "metadata": {},
     "output_type": "execute_result"
    }
   ],
   "source": [
    "len(next(iter(responses.values()))['choices'])"
   ]
  },
  {
   "cell_type": "code",
   "execution_count": 14,
   "id": "bd3d4a8c",
   "metadata": {},
   "outputs": [
    {
     "data": {
      "text/plain": [
       "200"
      ]
     },
     "execution_count": 14,
     "metadata": {},
     "output_type": "execute_result"
    }
   ],
   "source": [
    "len(next(iter(responses.values()))['choices'])"
   ]
  },
  {
   "cell_type": "code",
   "execution_count": 15,
   "id": "066debd0",
   "metadata": {},
   "outputs": [],
   "source": [
    "model = Model()"
   ]
  },
  {
   "cell_type": "code",
   "execution_count": 16,
   "id": "37726c8a",
   "metadata": {},
   "outputs": [],
   "source": [
    "problems = list(sorted(read_problems().items()))"
   ]
  },
  {
   "cell_type": "code",
   "execution_count": 17,
   "id": "79a71775",
   "metadata": {},
   "outputs": [],
   "source": [
    "import random"
   ]
  },
  {
   "cell_type": "code",
   "execution_count": 25,
   "id": "a0da038c",
   "metadata": {},
   "outputs": [],
   "source": [
    "def run_trial(responses, num_candidates, candidate_scoring):\n",
    "    samples_to_evaluate = []\n",
    "    for task_id, problem in problems:\n",
    "        candidates = responses[task_id]['choices'].copy()\n",
    "        random.shuffle(candidates)\n",
    "        candidates = candidates[:num_candidates]\n",
    "        completions, response = model.rank_completions(\n",
    "            problem['prompt'], None, \n",
    "            cached_response={'choices': candidates},\n",
    "            scoring=candidate_scoring,\n",
    "        )\n",
    "        best_score, best_candidate = completions[0]\n",
    "        samples_to_evaluate.append(dict(\n",
    "            task_id=task_id,\n",
    "            completion=best_candidate\n",
    "        ))\n",
    "    return evaluate_functional_correctness(\n",
    "        sample_file=None, samples=samples_to_evaluate,\n",
    "        n_workers=4, suppress=True,\n",
    "    )"
   ]
  },
  {
   "cell_type": "code",
   "execution_count": 19,
   "id": "a4c54a30",
   "metadata": {},
   "outputs": [],
   "source": [
    "def compute_oracle_scores(responses, all_num_candidates):\n",
    "    samples_to_evaluate = []\n",
    "    for task_id, problem in problems:\n",
    "        choices = responses[task_id]['choices']\n",
    "        assert max(all_num_candidates) <= len(choices), f\"can't compute oracle; too few candidates ({len(choices)}) for id {task_id}\"\n",
    "        for choice in choices:\n",
    "            samples_to_evaluate.append(dict(\n",
    "                task_id=task_id, \n",
    "                completion=choice['text']\n",
    "            ))\n",
    "    results, extra = evaluate_functional_correctness(\n",
    "        sample_file=None, samples=samples_to_evaluate,\n",
    "        n_workers=20, suppress=False,\n",
    "    )\n",
    "    datapoints = []\n",
    "    for num_candidates in all_num_candidates:\n",
    "        datapoints.append({\n",
    "            'num_candidates': num_candidates,\n",
    "            'candidate_scoring': 'oracle',\n",
    "            'pass@1': results[f'pass@{num_candidates}'],\n",
    "        })\n",
    "    return datapoints"
   ]
  },
  {
   "cell_type": "code",
   "execution_count": 20,
   "id": "b52ac6eb",
   "metadata": {
    "scrolled": true
   },
   "outputs": [
    {
     "name": "stderr",
     "output_type": "stream",
     "text": [
      "100%|████████████████████████████████████████████████████████████████████████████████████████████████████████████████████████████████████████████████████████████████████████████████████████████████████████████████████████████████| 32800/32800 [00:02<00:00, 11826.52it/s]\n"
     ]
    },
    {
     "name": "stdout",
     "output_type": "stream",
     "text": [
      "Running test suites...\n"
     ]
    },
    {
     "name": "stderr",
     "output_type": "stream",
     "text": [
      "  5%|███████████▌                                                                                                                                                                                                                        | 1671/32800 [03:08<54:16,  9.56it/s]s_push: parser stack overflow\n",
      " 43%|████████████████████████████████████████████████████████████████████████████████████████████████▉                                                                                                                                  | 14014/32800 [26:22<43:34,  7.18it/s]s_push: parser stack overflow\n",
      "100%|█████████████████████████████████████████████████████████████████████████████████████████████████████████████████████████████████████████████████████████████████████████████████████████████████████████████████████████████████| 32800/32800 [1:02:33<00:00,  8.74it/s]\n"
     ]
    }
   ],
   "source": [
    "datapoints = compute_oracle_scores(responses, [1, 10, 100])"
   ]
  },
  {
   "cell_type": "code",
   "execution_count": 21,
   "id": "1ce7b5f9",
   "metadata": {},
   "outputs": [
    {
     "data": {
      "text/plain": [
       "[1, 2, 5, 10, 20, 50, 100]"
      ]
     },
     "execution_count": 21,
     "metadata": {},
     "output_type": "execute_result"
    }
   ],
   "source": [
    "# all_num_candidates = list(np.arange(9) + 1) + list((np.arange(10) + 1) * 10)\n",
    "#all_num_candidates = [1, 10, 100]\n",
    "all_num_candidates = [1, 2, 5, 10, 20, 50, 100]\n",
    "all_num_candidates"
   ]
  },
  {
   "cell_type": "code",
   "execution_count": 23,
   "id": "91330b4c",
   "metadata": {},
   "outputs": [],
   "source": [
    "from itertools import product"
   ]
  },
  {
   "cell_type": "code",
   "execution_count": 26,
   "id": "0927bedb",
   "metadata": {},
   "outputs": [
    {
     "name": "stderr",
     "output_type": "stream",
     "text": [
      " 27%|██████████████████████████████████████████████████████████████▊                                                                                                                                                                          | 17/63 [06:54<18:37, 24.29s/it]/private/home/dpf/projects/codex/models.py:33: RuntimeWarning: Mean of empty slice.\n",
      "  return token_logprobs.mean()\n",
      "/private/home/dpf/.conda/envs/analysis/lib/python3.8/site-packages/numpy/core/_methods.py:189: RuntimeWarning: invalid value encountered in double_scalars\n",
      "  ret = ret.dtype.type(ret / rcount)\n",
      " 54%|█████████████████████████████████████████████████████████████████████████████████████████████████████████████████████████████▋                                                                                                           | 34/63 [12:27<07:03, 14.62s/it]s_push: parser stack overflow\n",
      "100%|█████████████████████████████████████████████████████████████████████████████████████████████████████████████████████████████████████████████████████████████████████████████████████████████████████████████████████████████████████████| 63/63 [22:46<00:00, 21.69s/it]\n"
     ]
    }
   ],
   "source": [
    "all_extras = {}\n",
    "def log_trial(tpl):\n",
    "    scoring_method, num_candidates, trial = tpl\n",
    "    result, extras = run_trial(responses, num_candidates, scoring_method)\n",
    "    result['num_candidates'] = num_candidates\n",
    "    result['candidate_scoring'] = scoring_method\n",
    "    result['trial'] = trial\n",
    "    all_extras[tuple(tpl)] = extras\n",
    "    return result\n",
    "\n",
    "scoring_methods = ['sum', 'mean', 'random']\n",
    "trials = list(range(3))\n",
    "\n",
    "# datapoints = [\n",
    "#     {'num_candidates': 1, 'candidate_scoring': 'oracle', 'pass@1': 10.6/100},\n",
    "#     {'num_candidates': 10, 'candidate_scoring': 'oracle', 'pass@1': 26.4/100},\n",
    "#     {'num_candidates': 100, 'candidate_scoring': 'oracle', 'pass@1': 43.9/100},\n",
    "# ]\n",
    "\n",
    "from multiprocessing.pool import ThreadPool\n",
    "import tqdm\n",
    "with ThreadPool(5) as pool:\n",
    "    it = list(product(scoring_methods, all_num_candidates, trials))\n",
    "    results = tqdm.tqdm(pool.imap(log_trial, it), total=len(it))\n",
    "    datapoints.extend(results)"
   ]
  },
  {
   "cell_type": "code",
   "execution_count": 40,
   "id": "79c8f3fe",
   "metadata": {},
   "outputs": [],
   "source": [
    "# datapoints = [\n",
    "#     {'num_candidates': 1, 'candidate_scoring': 'oracle', 'pass@1': 6.1/100},\n",
    "#     {'num_candidates': 10, 'candidate_scoring': 'oracle', 'pass@1': 16.3/100},\n",
    "#     {'num_candidates': 100, 'candidate_scoring': 'oracle', 'pass@1': 30.8/100},\n",
    "# ]\n",
    "# for scoring_method in ['sum', 'mean', 'random']:\n",
    "#     for num_candidates in all_num_candidates:\n",
    "#         for trial in range(3):\n",
    "#             result = run_trial(responses, num_candidates, scoring_method)\n",
    "#             result['num_candidates'] = num_candidates\n",
    "#             result['candidate_scoring'] = scoring_method\n",
    "#             result['trial'] = trial\n",
    "#             datapoints.append(result)"
   ]
  },
  {
   "cell_type": "code",
   "execution_count": 27,
   "id": "b92f5870",
   "metadata": {},
   "outputs": [],
   "source": [
    "import pandas"
   ]
  },
  {
   "cell_type": "code",
   "execution_count": 28,
   "id": "b967405e",
   "metadata": {},
   "outputs": [],
   "source": [
    "df = pandas.DataFrame(datapoints)"
   ]
  },
  {
   "cell_type": "code",
   "execution_count": 29,
   "id": "252ce21d",
   "metadata": {},
   "outputs": [
    {
     "data": {
      "text/plain": [
       "Index(['num_candidates', 'candidate_scoring', 'pass@1', 'trial'], dtype='object')"
      ]
     },
     "execution_count": 29,
     "metadata": {},
     "output_type": "execute_result"
    }
   ],
   "source": [
    "df.columns"
   ]
  },
  {
   "cell_type": "code",
   "execution_count": 30,
   "id": "0811495d",
   "metadata": {},
   "outputs": [],
   "source": [
    "means = df.groupby(['num_candidates','candidate_scoring'])['pass@1'].mean()"
   ]
  },
  {
   "cell_type": "code",
   "execution_count": 31,
   "id": "c04b9165",
   "metadata": {},
   "outputs": [
    {
     "data": {
      "text/plain": [
       "num_candidates  candidate_scoring\n",
       "1               mean                 0.044715\n",
       "                oracle               0.060549\n",
       "                random               0.052846\n",
       "                sum                  0.060976\n",
       "2               mean                 0.071138\n",
       "                random               0.058943\n",
       "                sum                  0.075203\n",
       "5               mean                 0.077236\n",
       "                random               0.052846\n",
       "                sum                  0.073171\n",
       "10              mean                 0.081301\n",
       "                oracle               0.162887\n",
       "                random               0.050813\n",
       "                sum                  0.054878\n",
       "20              mean                 0.050813\n",
       "                random               0.067073\n",
       "                sum                  0.058943\n",
       "50              mean                 0.063008\n",
       "                random               0.048780\n",
       "                sum                  0.034553\n",
       "100             mean                 0.063008\n",
       "                oracle               0.308221\n",
       "                random               0.052846\n",
       "                sum                  0.038618\n",
       "Name: pass@1, dtype: float64"
      ]
     },
     "execution_count": 31,
     "metadata": {},
     "output_type": "execute_result"
    }
   ],
   "source": [
    "means"
   ]
  },
  {
   "cell_type": "code",
   "execution_count": 32,
   "id": "4c929a74",
   "metadata": {},
   "outputs": [],
   "source": [
    "import matplotlib.pyplot as plt"
   ]
  },
  {
   "cell_type": "code",
   "execution_count": 33,
   "id": "13dd6841",
   "metadata": {},
   "outputs": [
    {
     "data": {
      "text/plain": [
       "<matplotlib.lines.Line2D at 0x7f7428598b20>"
      ]
     },
     "execution_count": 33,
     "metadata": {},
     "output_type": "execute_result"
    },
    {
     "data": {
      "image/png": "[encoded data removed]",
      "text/plain": [
       "<Figure size 432x288 with 1 Axes>"
      ]
     },
     "metadata": {
      "needs_background": "light"
     },
     "output_type": "display_data"
    }
   ],
   "source": [
    "r = means.reset_index()\n",
    "ax = None\n",
    "for scoring, color in [('oracle', 'b'), ('sum', 'g'), ('mean', 'r'), ('random', 'purple')]:\n",
    "    col = r[r['candidate_scoring'] == scoring]\n",
    "    ax = col.plot(\n",
    "        x='num_candidates', y='pass@1', color=color, label=scoring, logx=True,\n",
    "        ax=ax,\n",
    "    )\n",
    "plt.legend()\n",
    "plt.xlabel('Number of samples')\n",
    "plt.ylabel('Pass Rate')\n",
    "plt.axhline(.104, c='k', linestyle=':')"
   ]
  },
  {
   "cell_type": "code",
   "execution_count": 35,
   "id": "d7f1d152",
   "metadata": {},
   "outputs": [],
   "source": [
    "from collections import defaultdict"
   ]
  },
  {
   "cell_type": "code",
   "execution_count": 36,
   "id": "ce54e860",
   "metadata": {},
   "outputs": [],
   "source": [
    "def pool_by_problem(all_extras, filter_fn=None):\n",
    "    completion_lengths_by_problem = defaultdict(list)\n",
    "    for tpl, d in all_extras.items():\n",
    "        if filter_fn is not None and not filter_fn(tpl):\n",
    "            continue\n",
    "        for k, vs in d['completion_lengths'].items():\n",
    "            completion_lengths_by_problem[k].extend(vs)\n",
    "    return completion_lengths_by_problem"
   ]
  },
  {
   "cell_type": "code",
   "execution_count": 37,
   "id": "bb262e2b",
   "metadata": {},
   "outputs": [
    {
     "data": {
      "text/plain": [
       "326.6626016260163"
      ]
     },
     "execution_count": 37,
     "metadata": {},
     "output_type": "execute_result"
    }
   ],
   "source": [
    "np.mean(list({k: np.mean(v) for k, v in pool_by_problem(all_extras, filter_fn=lambda t: t[0] == 'random' and t[1] == 100).items()}.values()))"
   ]
  },
  {
   "cell_type": "code",
   "execution_count": 38,
   "id": "dcf3426e",
   "metadata": {},
   "outputs": [
    {
     "data": {
      "text/plain": [
       "35.17276422764228"
      ]
     },
     "execution_count": 38,
     "metadata": {},
     "output_type": "execute_result"
    }
   ],
   "source": [
    "np.mean(list({k: np.mean(v) for k, v in pool_by_problem(all_extras, filter_fn=lambda t: t[0] == 'sum' and t[1] == 100).items()}.values()))"
   ]
  },
  {
   "cell_type": "code",
   "execution_count": 39,
   "id": "b09597fe",
   "metadata": {},
   "outputs": [
    {
     "data": {
      "text/plain": [
       "493.10772357723573"
      ]
     },
     "execution_count": 39,
     "metadata": {},
     "output_type": "execute_result"
    }
   ],
   "source": [
    "np.mean(list({k: np.mean(v) for k, v in pool_by_problem(all_extras, filter_fn=lambda t: t[0] == 'mean' and t[1] == 100).items()}.values()))"
   ]
  }
 ],
 "metadata": {
  "kernelspec": {
   "display_name": "Python 3 (ipykernel)",
   "language": "python",
   "name": "python3"
  },
  "language_info": {
   "codemirror_mode": {
    "name": "ipython",
    "version": 3
   },
   "file_extension": ".py",
   "mimetype": "text/x-python",
   "name": "python",
   "nbconvert_exporter": "python",
   "pygments_lexer": "ipython3",
   "version": "3.8.12"
  }
 },
 "nbformat": 4,
 "nbformat_minor": 5
}
