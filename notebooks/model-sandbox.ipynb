{
 "cells": [
  {
   "cell_type": "code",
   "execution_count": 1,
   "id": "f1f506b1",
   "metadata": {},
   "outputs": [
    {
     "name": "stdout",
     "output_type": "stream",
     "text": [
      "/private/home/dpf/projects/codex\n"
     ]
    }
   ],
   "source": [
    "cd /private/home/dpf/projects/codex"
   ]
  },
  {
   "cell_type": "code",
   "execution_count": 2,
   "id": "19bffe86",
   "metadata": {},
   "outputs": [],
   "source": [
    "from models import *"
   ]
  },
  {
   "cell_type": "code",
   "execution_count": 3,
   "id": "f390aa02",
   "metadata": {},
   "outputs": [],
   "source": [
    "%load_ext autoreload\n",
    "%autoreload 2"
   ]
  },
  {
   "cell_type": "code",
   "execution_count": 4,
   "id": "3b0f76e7",
   "metadata": {},
   "outputs": [],
   "source": [
    "from he import make_parser, HUMAN_EVAL_STOP_WORDS\n",
    "import shlex\n",
    "import pprint"
   ]
  },
  {
   "cell_type": "code",
   "execution_count": 5,
   "id": "b2487df8",
   "metadata": {},
   "outputs": [
    {
     "ename": "NameError",
     "evalue": "name 'parser' is not defined",
     "output_type": "error",
     "traceback": [
      "\u001b[0;31m---------------------------------------------------------------------------\u001b[0m",
      "\u001b[0;31mNameError\u001b[0m                                 Traceback (most recent call last)",
      "\u001b[0;32m/tmp/ipykernel_2727021/3379292472.py\u001b[0m in \u001b[0;36m<module>\u001b[0;34m\u001b[0m\n\u001b[0;32m----> 1\u001b[0;31m \u001b[0margs\u001b[0m \u001b[0;34m=\u001b[0m \u001b[0mparser\u001b[0m\u001b[0;34m.\u001b[0m\u001b[0mparse_args\u001b[0m\u001b[0;34m(\u001b[0m\u001b[0mshlex\u001b[0m\u001b[0;34m.\u001b[0m\u001b[0msplit\u001b[0m\u001b[0;34m(\u001b[0m\u001b[0;34m\"--model_name /checkpoint/dpf/models/lm-1.3B-ourtok/checkpoint_last_consolidated.pt --num_candidates_generated 1 --num_candidates_evaluated 1 --batch_size 3 --temperature 0.2 --top_p 0.95 --output_filename expts/he/lm-1.3B-ourtok_last_ncg-1_temp-0.2/prompt_pyfile_normalized/samples.jsonl --response_filename expts/he/lm-1.3B-ourtok_last_ncg-1_temp-0.2/prompt_pyfile_normalized/responses.pkl --prompt_prefix '<| file ext=.py |>'\"\u001b[0m\u001b[0;34m)\u001b[0m\u001b[0;34m)\u001b[0m\u001b[0;34m\u001b[0m\u001b[0;34m\u001b[0m\u001b[0m\n\u001b[0m",
      "\u001b[0;31mNameError\u001b[0m: name 'parser' is not defined"
     ]
    }
   ],
   "source": [
    "args = parser.parse_args(shlex.split(\"--model_name /checkpoint/dpf/models/lm-1.3B-ourtok/checkpoint_last_consolidated.pt --num_candidates_generated 1 --num_candidates_evaluated 1 --batch_size 3 --temperature 0.2 --top_p 0.95 --output_filename expts/he/lm-1.3B-ourtok_last_ncg-1_temp-0.2/prompt_pyfile_normalized/samples.jsonl --response_filename expts/he/lm-1.3B-ourtok_last_ncg-1_temp-0.2/prompt_pyfile_normalized/responses.pkl --prompt_prefix '<| file ext=.py |>'\"))"
   ]
  },
  {
   "cell_type": "code",
   "execution_count": null,
   "id": "0d54f5b0",
   "metadata": {},
   "outputs": [],
   "source": [
    "pprint.pprint(vars(args))"
   ]
  },
  {
   "cell_type": "code",
   "execution_count": null,
   "id": "e6b5645d",
   "metadata": {},
   "outputs": [],
   "source": [
    "model = make_model(args, args.model_name, args.tokenizer_name, prompt_prefix=args.prompt_prefix)"
   ]
  },
  {
   "cell_type": "code",
   "execution_count": 6,
   "id": "b1284c88",
   "metadata": {},
   "outputs": [],
   "source": [
    "from human_eval.data import read_problems"
   ]
  },
  {
   "cell_type": "code",
   "execution_count": 7,
   "id": "3b41732a",
   "metadata": {},
   "outputs": [],
   "source": [
    "problems = read_problems()"
   ]
  },
  {
   "cell_type": "code",
   "execution_count": 8,
   "id": "ddb96d13",
   "metadata": {},
   "outputs": [],
   "source": [
    "task_id, problem = next(iter(problems.items()))"
   ]
  },
  {
   "cell_type": "code",
   "execution_count": 33,
   "id": "42153587",
   "metadata": {},
   "outputs": [],
   "source": [
    "prompt = problem['prompt']"
   ]
  },
  {
   "cell_type": "code",
   "execution_count": 36,
   "id": "5fb1e71a",
   "metadata": {},
   "outputs": [],
   "source": [
    "completions, response = model.rank_completions(\n",
    "    prompt, HUMAN_EVAL_STOP_WORDS,\n",
    "    max_tokens=450,\n",
    "    n=args.num_candidates_generated,\n",
    "    cached_response=None,\n",
    "    scoring=args.candidate_scoring,\n",
    "    temperature=args.temperature,\n",
    "    top_p=args.top_p,\n",
    ")"
   ]
  },
  {
   "cell_type": "code",
   "execution_count": 38,
   "id": "7b9bf25d",
   "metadata": {},
   "outputs": [
    {
     "data": {
      "text/plain": [
       "{'task_id': 'HumanEval/0',\n",
       " 'prompt': 'from typing import List\\n\\n\\ndef has_close_elements(numbers: List[float], threshold: float) -> bool:\\n    \"\"\" Check if in given list of numbers, are any two numbers closer to each other than\\n    given threshold.\\n    >>> has_close_elements([1.0, 2.0, 3.0], 0.5)\\n    False\\n    >>> has_close_elements([1.0, 2.8, 3.0, 4.0, 5.0, 2.0], 0.3)\\n    True\\n    \"\"\"\\n',\n",
       " 'entry_point': 'has_close_elements',\n",
       " 'canonical_solution': '    for idx, elem in enumerate(numbers):\\n        for idx2, elem2 in enumerate(numbers):\\n            if idx != idx2:\\n                distance = abs(elem - elem2)\\n                if distance < threshold:\\n                    return True\\n\\n    return False\\n',\n",
       " 'test': \"\\n\\nMETADATA = {\\n    'author': 'jt',\\n    'dataset': 'test'\\n}\\n\\n\\ndef check(candidate):\\n    assert candidate([1.0, 2.0, 3.9, 4.0, 5.0, 2.2], 0.3) == True\\n    assert candidate([1.0, 2.0, 3.9, 4.0, 5.0, 2.2], 0.05) == False\\n    assert candidate([1.0, 2.0, 5.9, 4.0, 5.0], 0.95) == True\\n    assert candidate([1.0, 2.0, 5.9, 4.0, 5.0], 0.8) == False\\n    assert candidate([1.0, 2.0, 3.0, 4.0, 5.0, 2.0], 0.1) == True\\n    assert candidate([1.1, 2.2, 3.1, 4.1, 5.1], 1.0) == True\\n    assert candidate([1.1, 2.2, 3.1, 4.1, 5.1], 0.5) == False\\n\\n\"}"
      ]
     },
     "execution_count": 38,
     "metadata": {},
     "output_type": "execute_result"
    }
   ],
   "source": [
    "problem"
   ]
  },
  {
   "cell_type": "code",
   "execution_count": 37,
   "id": "492230ce",
   "metadata": {},
   "outputs": [
    {
     "data": {
      "text/plain": [
       "[{'text': '    return any(abs(x - y) < threshold for x, y in zip(numbers, numbers[1:]))\\n\\n',\n",
       "  'logprobs': {'token_logprobs': [-1.502655029296875,\n",
       "    -1.01348876953125,\n",
       "    -0.00750732421875,\n",
       "    -0.46185302734375,\n",
       "    0.0,\n",
       "    -0.00640869140625,\n",
       "    0.0,\n",
       "    -0.033660888671875,\n",
       "    0.0,\n",
       "    0.0,\n",
       "    0.0,\n",
       "    0.0,\n",
       "    -0.040435791015625,\n",
       "    0.0,\n",
       "    0.0,\n",
       "    0.0,\n",
       "    -0.065826416015625],\n",
       "   'tokens': ['    return ',\n",
       "    'any(',\n",
       "    'abs(',\n",
       "    'x - ',\n",
       "    'y',\n",
       "    ') < ',\n",
       "    'threshold ',\n",
       "    'for ',\n",
       "    'x, ',\n",
       "    'y in ',\n",
       "    'zip(',\n",
       "    'number',\n",
       "    's, ',\n",
       "    'number',\n",
       "    's[1:',\n",
       "    ']))',\n",
       "    '\\n\\n']}}]"
      ]
     },
     "execution_count": 37,
     "metadata": {},
     "output_type": "execute_result"
    }
   ],
   "source": [
    "completions"
   ]
  },
  {
   "cell_type": "code",
   "execution_count": 42,
   "id": "1ec6a54b",
   "metadata": {},
   "outputs": [
    {
     "data": {
      "text/plain": [
       "'from typing import List\\n\\n\\ndef has_close_elements(numbers: List[float], threshold: float) -> bool:\\n    \"\"\" Check if in given list of numbers, are any two numbers closer to each other than\\n    given threshold.\\n    >>> has_close_elements([1.0, 2.0, 3.0], 0.5)\\n    False\\n    >>> has_close_elements([1.0, 2.8, 3.0, 4.0, 5.0, 2.0], 0.3)\\n    True\\n    \"\"\"\\n'"
      ]
     },
     "execution_count": 42,
     "metadata": {},
     "output_type": "execute_result"
    }
   ],
   "source": [
    "prompt"
   ]
  },
  {
   "cell_type": "code",
   "execution_count": 41,
   "id": "9537d853",
   "metadata": {},
   "outputs": [
    {
     "data": {
      "text/plain": [
       "[{'text': '    return any(abs(x - y) < threshold for x, y in zip(numbers, numbers[1:]))\\n\\n',\n",
       "  'logprobs': {'token_logprobs': [-1.502655029296875,\n",
       "    -1.01348876953125,\n",
       "    -0.00750732421875,\n",
       "    -0.46185302734375,\n",
       "    0.0,\n",
       "    -0.00640869140625,\n",
       "    0.0,\n",
       "    -0.033660888671875,\n",
       "    0.0,\n",
       "    0.0,\n",
       "    0.0,\n",
       "    0.0,\n",
       "    -0.040435791015625,\n",
       "    0.0,\n",
       "    0.0,\n",
       "    0.0,\n",
       "    -0.065826416015625],\n",
       "   'tokens': ['    return ',\n",
       "    'any(',\n",
       "    'abs(',\n",
       "    'x - ',\n",
       "    'y',\n",
       "    ') < ',\n",
       "    'threshold ',\n",
       "    'for ',\n",
       "    'x, ',\n",
       "    'y in ',\n",
       "    'zip(',\n",
       "    'number',\n",
       "    's, ',\n",
       "    'number',\n",
       "    's[1:',\n",
       "    ']))',\n",
       "    '\\n\\n']}}]"
      ]
     },
     "execution_count": 41,
     "metadata": {},
     "output_type": "execute_result"
    }
   ],
   "source": [
    "completions"
   ]
  },
  {
   "cell_type": "code",
   "execution_count": 67,
   "id": "8f9f9b2b",
   "metadata": {},
   "outputs": [],
   "source": [
    "enc = model._encode(\"def \")"
   ]
  },
  {
   "cell_type": "code",
   "execution_count": 68,
   "id": "2087441d",
   "metadata": {},
   "outputs": [
    {
     "data": {
      "text/plain": [
       "tensor([380,   2])"
      ]
     },
     "execution_count": 68,
     "metadata": {},
     "output_type": "execute_result"
    }
   ],
   "source": [
    "enc"
   ]
  },
  {
   "cell_type": "code",
   "execution_count": 95,
   "id": "1b1b5baf",
   "metadata": {},
   "outputs": [],
   "source": [
    "greedy = model.lm_model.generate([enc], sampling=True, beam=1, sampling_topk=1, temperature=0.6)[0][0]"
   ]
  },
  {
   "cell_type": "code",
   "execution_count": 96,
   "id": "2d79dee1",
   "metadata": {},
   "outputs": [
    {
     "data": {
      "text/plain": [
       "tensor(-73.9279, device='cuda:0')"
      ]
     },
     "execution_count": 96,
     "metadata": {},
     "output_type": "execute_result"
    }
   ],
   "source": [
    "greedy['positional_scores'].sum()"
   ]
  },
  {
   "cell_type": "code",
   "execution_count": 97,
   "id": "5d11b336",
   "metadata": {},
   "outputs": [
    {
     "data": {
      "text/plain": [
       "'def f():\\n    return 1\\n</code>\\n<|/ a dscore=0 |>\\n<| c |>\\nThanks for your answer. I am not able to understand how this works. Can you please explain it a little bit more?\\n<|/ c |>\\n<| c |>\\n`f` returns a function which takes no arguments and returns `1`. `f` then calls `f` which returns `1`. `f` then calls `f` which returns `1`. `f` then calls `f` which returns `1`. `f` then calls `f` which returns `1`. `f` then calls `f` which returns `1`. `f` then calls `f` which returns `1`. `f` then calls `f` which returns `1`. `f` then calls `f` which returns `1`. `f` then calls `f` which returns `1`. `f` then calls `f` which returns `1`. `f` then calls `f` which returns `1`. `f` then calls `f` which returns `1`. `f` then calls `f` which returns `1`. `f` then calls `f` which returns `1`. `f` then calls `f` which returns `1`. `f` then calls `f` which returns `1`. `f` then calls `f` which returns `1`. `f` then calls `f` which returns `1`. `f` then calls `f` which returns `1`. `f` then calls `f` which returns `1`. `f` then calls `f` which returns `1`. `f` then calls `f` which returns `1`. `f` then calls `f` which returns `1`. `f` then calls `f` which returns `1`. `f` then calls `f` which returns `1`. `f` then calls `f` which returns `1`. `f` then calls `f` which returns `1`. `f` then calls `f` which returns `1`. `f` then calls `f` which returns `1`. `f'"
      ]
     },
     "execution_count": 97,
     "metadata": {},
     "output_type": "execute_result"
    }
   ],
   "source": [
    "model._decode(greedy['tokens'])"
   ]
  },
  {
   "cell_type": "code",
   "execution_count": 98,
   "id": "d0aa7c8e",
   "metadata": {},
   "outputs": [
    {
     "data": {
      "text/plain": [
       "451"
      ]
     },
     "execution_count": 98,
     "metadata": {},
     "output_type": "execute_result"
    }
   ],
   "source": [
    "len(greedy['tokens'])"
   ]
  },
  {
   "cell_type": "code",
   "execution_count": 108,
   "id": "bc7193ef",
   "metadata": {},
   "outputs": [],
   "source": [
    "scores = model.lm_model.score(model._decode(greedy['tokens']))"
   ]
  },
  {
   "cell_type": "code",
   "execution_count": 100,
   "id": "7153432a",
   "metadata": {},
   "outputs": [
    {
     "data": {
      "text/plain": [
       "450"
      ]
     },
     "execution_count": 100,
     "metadata": {},
     "output_type": "execute_result"
    }
   ],
   "source": [
    "len(scores['tokens'])"
   ]
  },
  {
   "cell_type": "code",
   "execution_count": 101,
   "id": "a433d333",
   "metadata": {},
   "outputs": [
    {
     "data": {
      "text/plain": [
       "450"
      ]
     },
     "execution_count": 101,
     "metadata": {},
     "output_type": "execute_result"
    }
   ],
   "source": [
    "len(scores['positional_scores'])"
   ]
  },
  {
   "cell_type": "code",
   "execution_count": 102,
   "id": "284f73f8",
   "metadata": {},
   "outputs": [
    {
     "data": {
      "text/plain": [
       "tensor([-2.8652e+01, -2.8209e+00, -5.5077e-01, -5.6534e-03, -9.8863e-01,\n",
       "        -1.1909e+00, -4.0000e-01, -4.8457e-01, -1.0490e-03, -3.5089e-01],\n",
       "       device='cuda:0')"
      ]
     },
     "execution_count": 102,
     "metadata": {},
     "output_type": "execute_result"
    }
   ],
   "source": [
    "greedy['positional_scores'][:10]"
   ]
  },
  {
   "cell_type": "code",
   "execution_count": 103,
   "id": "bd6f3d8c",
   "metadata": {},
   "outputs": [
    {
     "data": {
      "text/plain": [
       "tensor(-73.9279, device='cuda:0')"
      ]
     },
     "execution_count": 103,
     "metadata": {},
     "output_type": "execute_result"
    }
   ],
   "source": [
    "greedy['positional_scores'].sum()"
   ]
  },
  {
   "cell_type": "code",
   "execution_count": 109,
   "id": "f4bae93f",
   "metadata": {},
   "outputs": [
    {
     "data": {
      "text/plain": [
       "tensor([-1.7463e+01, -4.5906e+00, -1.7478e+00, -9.2374e-02, -2.0834e+00,\n",
       "        -2.5510e+00, -6.3093e-01, -1.2731e+00, -1.6337e-02, -1.7059e+00],\n",
       "       device='cuda:0')"
      ]
     },
     "execution_count": 109,
     "metadata": {},
     "output_type": "execute_result"
    }
   ],
   "source": [
    "scores['positional_scores'][:10]"
   ]
  },
  {
   "cell_type": "code",
   "execution_count": 105,
   "id": "e19b668b",
   "metadata": {},
   "outputs": [
    {
     "data": {
      "text/plain": [
       "tensor(-113.3715, device='cuda:0')"
      ]
     },
     "execution_count": 105,
     "metadata": {},
     "output_type": "execute_result"
    }
   ],
   "source": [
    "scores['positional_scores'].sum()"
   ]
  },
  {
   "cell_type": "code",
   "execution_count": 74,
   "id": "a4f4b16e",
   "metadata": {},
   "outputs": [
    {
     "data": {
      "text/plain": [
       "'def f():\\n    return 1\\n</code>\\n<|/ a dscore=0 |>\\n<| c |>\\nThanks for your answer. I am not able to understand how this works. Can you please explain it a little bit more?\\n<|/ c |>\\n<| c |>\\n`f` returns a function which takes no arguments and returns `1`. `f` then calls `f` which returns `1`. `f` then calls `f` which returns `1`. `f` then calls `f` which returns `1`. `f` then calls `f` which returns `1`. `f` then calls `f` which returns `1`. `f` then calls `f` which returns `1`. `f` then calls `f` which returns `1`. `f` then calls `f` which returns `1`. `f` then calls `f` which returns `1`. `f` then calls `f` which returns `1`. `f` then calls `f` which returns `1`. `f` then calls `f` which returns `1`. `f` then calls `f` which returns `1`. `f` then calls `f` which returns `1`. `f` then calls `f` which returns `1`. `f` then calls `f` which returns `1`. `f` then calls `f` which returns `1`. `f` then calls `f` which returns `1`. `f` then calls `f` which returns `1`. `f` then calls `f` which returns `1`. `f` then calls `f` which returns `1`. `f` then calls `f` which returns `1`. `f` then calls `f` which returns `1`. `f` then calls `f` which returns `1`. `f` then calls `f` which returns `1`. `f` then calls `f` which returns `1`. `f` then calls `f` which returns `1`. `f` then calls `f` which returns `1`. `f` then calls `f` which returns `1`. `f'"
      ]
     },
     "execution_count": 74,
     "metadata": {},
     "output_type": "execute_result"
    }
   ],
   "source": [
    "model._decode(scores['tokens'])"
   ]
  },
  {
   "cell_type": "code",
   "execution_count": 77,
   "id": "f1d7a334",
   "metadata": {},
   "outputs": [
    {
     "data": {
      "text/plain": [
       "tensor(-0.2514, device='cuda:0')"
      ]
     },
     "execution_count": 77,
     "metadata": {},
     "output_type": "execute_result"
    }
   ],
   "source": [
    "greedy[0][0]['positional_scores'].sum() / len(greedy[0][0]['positional_scores'])"
   ]
  },
  {
   "cell_type": "code",
   "execution_count": 45,
   "id": "49305ac6",
   "metadata": {},
   "outputs": [
    {
     "data": {
      "text/plain": [
       "[{'tokens': tensor([48158,   536,   380,  4732, 14180,  1375,   484,  1726, 14641, 37417,\n",
       "           6342,  8660, 18567,   205,  7749, 13161,   366,  2649,  2433,  1726,\n",
       "            463,   937,  2193,  3510, 34254,  1304,   374,  1222,  2065,  2370,\n",
       "          20711,   205,   264,  2649, 13349,   696,   205,  2296,  4732, 14180,\n",
       "           1375,  8877,  6280, 22672,  1201, 13102, 12444,   205,   264,   690,\n",
       "            205,  2296,  4732, 14180,  1375,  8877,  6280,   845,  3554, 41762,\n",
       "           2409,   546, 41091,   845,   589,  3024,  2644,   205, 28660,   205,\n",
       "            768,   205], device='cuda:0'),\n",
       "  'score': tensor(-2.1254, device='cuda:0'),\n",
       "  'attention': None,\n",
       "  'alignment': None,\n",
       "  'positional_scores': tensor([-2.0640e+01, -1.5026e+00, -2.6657e+00, -6.1961e+00, -7.5587e+00,\n",
       "          -5.9465e+00, -1.9377e-01, -6.1983e+00, -1.4929e-01, -3.9327e+00,\n",
       "          -3.7841e+00, -2.3243e-01, -8.7383e-01, -1.0815e-02, -4.0083e+00,\n",
       "          -2.0688e+00, -9.2305e+00, -2.8441e+00, -1.6415e+00, -6.5256e-01,\n",
       "          -1.1064e+00, -5.3480e+00, -3.1491e+00, -4.7578e+00, -1.2353e+00,\n",
       "          -1.4281e+00, -1.1029e+00, -8.8856e-01, -3.6245e-01, -5.6283e-01,\n",
       "          -2.2585e+00, -7.1268e-02, -9.5354e-01, -2.0278e+00, -1.6830e+00,\n",
       "          -1.0476e-01, -8.8675e-01, -5.0370e+00, -1.2718e-01, -2.4508e-03,\n",
       "          -1.1477e-02, -3.2514e-01, -3.3236e+00, -1.0018e+00, -1.3872e+00,\n",
       "          -9.8756e-01, -1.2648e+00, -1.2435e-02, -1.8670e+00, -1.8957e-02,\n",
       "          -5.0669e-02, -1.7654e-01, -6.0640e-03, -5.4226e-04, -2.7808e-04,\n",
       "          -3.4551e-02, -4.3669e-01, -2.4889e+00, -5.0932e+00, -3.6752e+00,\n",
       "          -4.3382e-01, -1.8698e+00, -1.5945e+00, -4.3384e+00, -5.3412e+00,\n",
       "          -5.2265e-02, -2.5431e+00, -3.4930e-03, -1.4549e-01, -5.4909e-02,\n",
       "          -9.6955e-01, -9.3766e-02], device='cuda:0'),\n",
       "  'id': tensor(0, device='cuda:0'),\n",
       "  'vocab_dist': None}]"
      ]
     },
     "execution_count": 45,
     "metadata": {},
     "output_type": "execute_result"
    }
   ],
   "source": [
    "model.lm_model.score([prompt])"
   ]
  },
  {
   "cell_type": "code",
   "execution_count": 6,
   "id": "86e8cdd1",
   "metadata": {},
   "outputs": [],
   "source": [
    "### INFILLS"
   ]
  },
  {
   "cell_type": "code",
   "execution_count": 9,
   "id": "4c34e4c2",
   "metadata": {},
   "outputs": [],
   "source": [
    "import infill_evaluation"
   ]
  },
  {
   "cell_type": "code",
   "execution_count": 10,
   "id": "50d11722",
   "metadata": {},
   "outputs": [],
   "source": [
    "from he import generate_he_infill_problems"
   ]
  },
  {
   "cell_type": "code",
   "execution_count": 11,
   "id": "9b0206c2",
   "metadata": {},
   "outputs": [],
   "source": [
    "from models import TruncationParameters"
   ]
  },
  {
   "cell_type": "code",
   "execution_count": 12,
   "id": "8a249600",
   "metadata": {},
   "outputs": [],
   "source": [
    "infill_parser = infill_evaluation.make_parser()"
   ]
  },
  {
   "cell_type": "code",
   "execution_count": 65,
   "id": "b49f5053",
   "metadata": {},
   "outputs": [],
   "source": [
    "infill_args = infill_parser.parse_args(shlex.split(\"--model_path /checkpoint/dpf/models/cm-6B-armen/cm-6B-ourtok/best.pt \\\n",
    "  --tokenizer_name gpt2_pretokenization_newlines_only  \\\n",
    "  --candidate_scoring random \\\n",
    "  --batch_size 10 \\\n",
    "  --eval_type one_line \\\n",
    "  --truncation_heuristics num_lines suffix \\\n",
    "  --temperature 0.2 \\\n",
    "  --num_candidates 1 \\\n",
    "  --bidirectional_generation \\\n",
    "  \"))"
   ]
  },
  {
   "cell_type": "code",
   "execution_count": 66,
   "id": "dfd16ae7",
   "metadata": {},
   "outputs": [
    {
     "name": "stdout",
     "output_type": "stream",
     "text": [
      "{'batch_size': 10,\n",
      " 'bidirectional_generation': True,\n",
      " 'bidirectional_scoring': False,\n",
      " 'candidate_scoring': 'random',\n",
      " 'eval_type': 'one_line',\n",
      " 'evaluate_only': False,\n",
      " 'max_tokens': None,\n",
      " 'model_path': '/checkpoint/dpf/models/cm-6B-armen/cm-6B-ourtok/best.pt',\n",
      " 'num_candidates': 1,\n",
      " 'prompt_prefix': None,\n",
      " 'result_base_path': None,\n",
      " 'temperature': 0.2,\n",
      " 'tokenizer_name': 'gpt2_pretokenization_newlines_only',\n",
      " 'top_p': 0.95,\n",
      " 'truncation_heuristics': ['num_lines', 'suffix'],\n",
      " 'unnormalized': False}\n"
     ]
    }
   ],
   "source": [
    "pprint.pprint(vars(infill_args))"
   ]
  },
  {
   "cell_type": "code",
   "execution_count": 64,
   "id": "acaa3842",
   "metadata": {
    "scrolled": true
   },
   "outputs": [
    {
     "name": "stdout",
     "output_type": "stream",
     "text": [
      "model_root_dir: /checkpoint/dpf/models/cm-6B-armen/cm-6B-ourtok\n",
      "model_basename: best.pt\n"
     ]
    },
    {
     "name": "stderr",
     "output_type": "stream",
     "text": [
      "[autoreload of models failed: Traceback (most recent call last):\n",
      "  File \"/private/home/dpf/.conda/envs/fairseq-20210318-htlm_2/lib/python3.8/site-packages/IPython/extensions/autoreload.py\", line 245, in check\n",
      "    superreload(m, reload, self.old_objects)\n",
      "  File \"/private/home/dpf/.conda/envs/fairseq-20210318-htlm_2/lib/python3.8/site-packages/IPython/extensions/autoreload.py\", line 410, in superreload\n",
      "    update_generic(old_obj, new_obj)\n",
      "  File \"/private/home/dpf/.conda/envs/fairseq-20210318-htlm_2/lib/python3.8/site-packages/IPython/extensions/autoreload.py\", line 347, in update_generic\n",
      "    update(a, b)\n",
      "  File \"/private/home/dpf/.conda/envs/fairseq-20210318-htlm_2/lib/python3.8/site-packages/IPython/extensions/autoreload.py\", line 317, in update_class\n",
      "    update_instances(old, new)\n",
      "  File \"/private/home/dpf/.conda/envs/fairseq-20210318-htlm_2/lib/python3.8/site-packages/IPython/extensions/autoreload.py\", line 280, in update_instances\n",
      "    ref.__class__ = new\n",
      "TypeError: __class__ assignment: 'TruncationParameters' object layout differs from 'TruncationParameters'\n",
      "]\n"
     ]
    }
   ],
   "source": [
    "# no caching\n",
    "# model = make_model(infill_args, infill_args.model_path, infill_args.tokenizer_name, prompt_prefix=infill_args.prompt_prefix)\n",
    "# with caching\n",
    "model = make_model(infill_args, infill_args.model_path, infill_args.tokenizer_name, prompt_prefix=infill_args.prompt_prefix, cached_model=model.lm_model)"
   ]
  },
  {
   "cell_type": "code",
   "execution_count": 59,
   "id": "fe7b403c",
   "metadata": {},
   "outputs": [
    {
     "data": {
      "text/plain": [
       "<models.CausalMasking at 0x7ff5376b8520>"
      ]
     },
     "execution_count": 59,
     "metadata": {},
     "output_type": "execute_result"
    }
   ],
   "source": [
    "model"
   ]
  },
  {
   "cell_type": "code",
   "execution_count": 19,
   "id": "1818b1c7",
   "metadata": {},
   "outputs": [],
   "source": [
    "infill_problems = generate_he_infill_problems(infill_args, eval_type=\"one_line\")"
   ]
  },
  {
   "cell_type": "code",
   "execution_count": 20,
   "id": "8abb5515",
   "metadata": {},
   "outputs": [],
   "source": [
    "infill_problems = list(infill_problems)"
   ]
  },
  {
   "cell_type": "code",
   "execution_count": 21,
   "id": "7d43567e",
   "metadata": {},
   "outputs": [],
   "source": [
    "task_id, problems = infill_problems[0]"
   ]
  },
  {
   "cell_type": "code",
   "execution_count": 22,
   "id": "bf548f39",
   "metadata": {},
   "outputs": [
    {
     "data": {
      "text/plain": [
       "'HumanEval/0'"
      ]
     },
     "execution_count": 22,
     "metadata": {},
     "output_type": "execute_result"
    }
   ],
   "source": [
    "task_id"
   ]
  },
  {
   "cell_type": "code",
   "execution_count": 23,
   "id": "1c451aeb",
   "metadata": {},
   "outputs": [],
   "source": [
    "problem = problems[0]"
   ]
  },
  {
   "cell_type": "code",
   "execution_count": 24,
   "id": "427c1feb",
   "metadata": {},
   "outputs": [
    {
     "data": {
      "text/plain": [
       "{'task_id': 'HumanEval/0',\n",
       " 'num_before': 0,\n",
       " 'num_after': 7,\n",
       " 'missing_lines': '    for idx, elem in enumerate(numbers):',\n",
       " 'prompt_parts': ['from typing import List\\n\\n\\ndef has_close_elements(numbers: List[float], threshold: float) -> bool:\\n    \"\"\" Check if in given list of numbers, are any two numbers closer to each other than\\n    given threshold.\\n    >>> has_close_elements([1.0, 2.0, 3.0], 0.5)\\n    False\\n    >>> has_close_elements([1.0, 2.8, 3.0, 4.0, 5.0, 2.0], 0.3)\\n    True\\n    \"\"\"\\n',\n",
       "  '        for idx2, elem2 in enumerate(numbers):\\n            if idx != idx2:\\n                distance = abs(elem - elem2)\\n                if distance < threshold:\\n                    return True\\n\\n    return False'],\n",
       " 'canonical_solution': '    for idx, elem in enumerate(numbers):\\n        for idx2, elem2 in enumerate(numbers):\\n            if idx != idx2:\\n                distance = abs(elem - elem2)\\n                if distance < threshold:\\n                    return True\\n\\n    return False\\n'}"
      ]
     },
     "execution_count": 24,
     "metadata": {},
     "output_type": "execute_result"
    }
   ],
   "source": [
    "problem"
   ]
  },
  {
   "cell_type": "code",
   "execution_count": 25,
   "id": "2a51a6d4",
   "metadata": {},
   "outputs": [],
   "source": [
    "prompt_parts = problem[\"prompt_parts\"]\n",
    "prefix, suffix = prompt_parts"
   ]
  },
  {
   "cell_type": "code",
   "execution_count": 26,
   "id": "ec5440be",
   "metadata": {},
   "outputs": [],
   "source": [
    "from models import TruncationParameters"
   ]
  },
  {
   "cell_type": "code",
   "execution_count": 67,
   "id": "52d28185",
   "metadata": {},
   "outputs": [],
   "source": [
    "truncation_parameters = [TruncationParameters.from_heuristics(infill_args.truncation_heuristics, problem[\"missing_lines\"], suffix)]"
   ]
  },
  {
   "cell_type": "code",
   "execution_count": 69,
   "id": "ec4044be",
   "metadata": {},
   "outputs": [],
   "source": [
    "kwargs = dict(\n",
    "    verbose=False, n=infill_args.num_candidates,\n",
    "    bidirectional_generation=infill_args.bidirectional_generation,\n",
    "    bidirectional_scoring=infill_args.bidirectional_scoring,\n",
    "    truncation_parameters=truncation_parameters,\n",
    "    scoring=infill_args.candidate_scoring,\n",
    ")\n",
    "# if args.temperature == 0.0:\n",
    "#     # kwargs.update(sampling=False)\n",
    "# else:\n",
    "kwargs.update(sampling=True, top_p=infill_args.top_p, temperature=infill_args.temperature)\n",
    "# kwargs.update(sampling=True, top_p=infill_args.top_p, temperature=0.8)\n",
    "# kwargs.update(max_tokens=30)"
   ]
  },
  {
   "cell_type": "code",
   "execution_count": 70,
   "id": "0df6fa07",
   "metadata": {},
   "outputs": [
    {
     "data": {
      "text/plain": [
       "{'verbose': False,\n",
       " 'n': 1,\n",
       " 'bidirectional_generation': True,\n",
       " 'bidirectional_scoring': False,\n",
       " 'truncation_parameters': [TruncationParameters(max_num_lines=1, suffix='        for idx2, elem2 in enumerate(numbers):\\n            if idx != idx2:\\n                distance = abs(elem - elem2)\\n                if distance < threshold:\\n                    return True\\n\\n    return False')],\n",
       " 'scoring': 'random',\n",
       " 'sampling': True,\n",
       " 'top_p': 0.95,\n",
       " 'temperature': 0.2}"
      ]
     },
     "execution_count": 70,
     "metadata": {},
     "output_type": "execute_result"
    }
   ],
   "source": [
    "kwargs"
   ]
  },
  {
   "cell_type": "code",
   "execution_count": 71,
   "id": "d363a795",
   "metadata": {},
   "outputs": [],
   "source": [
    "model.batch_size = 5"
   ]
  },
  {
   "cell_type": "code",
   "execution_count": 72,
   "id": "87d6b88c",
   "metadata": {},
   "outputs": [
    {
     "name": "stderr",
     "output_type": "stream",
     "text": [
      "warning: <eoss> not found\n"
     ]
    }
   ],
   "source": [
    "sorted_choices, response = model.rank_infills(prompt_parts, **kwargs)"
   ]
  },
  {
   "cell_type": "code",
   "execution_count": 73,
   "id": "ad65ffd7",
   "metadata": {},
   "outputs": [
    {
     "data": {
      "text/plain": [
       "{'prompt_parts': ['from typing import List\\n\\n\\ndef has_close_elements(numbers: List[float], threshold: float) -> bool:\\n    \"\"\" Check if in given list of numbers, are any two numbers closer to each other than\\n    given threshold.\\n    >>> has_close_elements([1.0, 2.0, 3.0], 0.5)\\n    False\\n    >>> has_close_elements([1.0, 2.8, 3.0, 4.0, 5.0, 2.0], 0.3)\\n    True\\n    \"\"\"\\n',\n",
       "  '        for idx2, elem2 in enumerate(numbers):\\n            if idx != idx2:\\n                distance = abs(elem - elem2)\\n                if distance < threshold:\\n                    return True\\n\\n    return False'],\n",
       " 'choices': [{'complete': ['from typing import List\\n\\n\\ndef has_close_elements(numbers: List[float], threshold: float) -> bool:\\n    \"\"\" Check if in given list of numbers, are any two numbers closer to each other than\\n    given threshold.\\n    >>> has_close_elements([1.0, 2.0, 3.0], 0.5)\\n    False\\n    >>> has_close_elements([1.0, 2.8, 3.0, 4.0, 5.0, 2.0], 0.3)\\n    True\\n    \"\"\"\\n',\n",
       "    '    numbers = sorted(numbers)\\n    for idx, elem in enumerate(numbers):\\n        if idx != 0:\\n            distance = abs(elem - numbers[idx - 1])\\n            if distance < threshold:\\n                return True\\n\\n    return False\\n\\n\\ndef has_close_elements_list(numbers: List[float], threshold: float) -> bool:\\n    \"\"\" Check if in given list of numbers, are any two numbers closer to each other than\\n    given threshold.\\n    >>> has_close_elements_list([1.0, 2.0, 3.0], 0.5)\\n    False\\n    >>> has_close_elements_list([1.0, 2.8, 3.0, 4.0, 5.0, 2.0], 0.3)\\n    True\\n    \"\"\"\\n    numbers = sorted(numbers)\\n    for idx, elem in enumerate(numbers):\\n        if idx != 0:',\n",
       "    '        for idx2, elem2 in enumerate(numbers):\\n            if idx != idx2:\\n                distance = abs(elem - elem2)\\n                if distance < threshold:\\n                    return True\\n\\n    return False'],\n",
       "   'infills_untruncated': ['    numbers = sorted(numbers)\\n    for idx, elem in enumerate(numbers):\\n        if idx != 0:\\n            distance = abs(elem - numbers[idx - 1])\\n            if distance < threshold:\\n                return True\\n\\n    return False\\n\\n\\ndef has_close_elements_list(numbers: List[float], threshold: float) -> bool:\\n    \"\"\" Check if in given list of numbers, are any two numbers closer to each other than\\n    given threshold.\\n    >>> has_close_elements_list([1.0, 2.0, 3.0], 0.5)\\n    False\\n    >>> has_close_elements_list([1.0, 2.8, 3.0, 4.0, 5.0, 2.0], 0.3)\\n    True\\n    \"\"\"\\n    numbers = sorted(numbers)\\n    for idx, elem in enumerate(numbers):\\n        if idx != 0:'],\n",
       "   'ids': [48158,\n",
       "    536,\n",
       "    380,\n",
       "    4732,\n",
       "    14180,\n",
       "    1375,\n",
       "    484,\n",
       "    1726,\n",
       "    14641,\n",
       "    37417,\n",
       "    6342,\n",
       "    8660,\n",
       "    18567,\n",
       "    205,\n",
       "    7749,\n",
       "    13161,\n",
       "    366,\n",
       "    2649,\n",
       "    2433,\n",
       "    1726,\n",
       "    463,\n",
       "    937,\n",
       "    2193,\n",
       "    3510,\n",
       "    34254,\n",
       "    1304,\n",
       "    374,\n",
       "    1222,\n",
       "    2065,\n",
       "    2370,\n",
       "    20711,\n",
       "    205,\n",
       "    264,\n",
       "    2649,\n",
       "    13349,\n",
       "    696,\n",
       "    205,\n",
       "    2296,\n",
       "    4732,\n",
       "    14180,\n",
       "    1375,\n",
       "    8877,\n",
       "    6280,\n",
       "    22672,\n",
       "    1201,\n",
       "    13102,\n",
       "    12444,\n",
       "    205,\n",
       "    264,\n",
       "    690,\n",
       "    205,\n",
       "    2296,\n",
       "    4732,\n",
       "    14180,\n",
       "    1375,\n",
       "    8877,\n",
       "    6280,\n",
       "    845,\n",
       "    3554,\n",
       "    41762,\n",
       "    2409,\n",
       "    546,\n",
       "    41091,\n",
       "    845,\n",
       "    589,\n",
       "    3024,\n",
       "    2644,\n",
       "    205,\n",
       "    28660,\n",
       "    205,\n",
       "    768,\n",
       "    205,\n",
       "    50261,\n",
       "    1185,\n",
       "    2386,\n",
       "    867,\n",
       "    1702,\n",
       "    4445,\n",
       "    10200,\n",
       "    1726,\n",
       "    1138,\n",
       "    205,\n",
       "    952,\n",
       "    14602,\n",
       "    1371,\n",
       "    2386,\n",
       "    3105,\n",
       "    205,\n",
       "    288,\n",
       "    46087,\n",
       "    4933,\n",
       "    28334,\n",
       "    542,\n",
       "    9241,\n",
       "    1484,\n",
       "    205,\n",
       "    1667,\n",
       "    9130,\n",
       "    993,\n",
       "    6342,\n",
       "    32,\n",
       "    205,\n",
       "    6459,\n",
       "    617,\n",
       "    284,\n",
       "    31874,\n",
       "    50261,\n",
       "    264,\n",
       "    1726,\n",
       "    26366,\n",
       "    1726,\n",
       "    588,\n",
       "    205,\n",
       "    1553,\n",
       "    9314,\n",
       "    1702,\n",
       "    9292,\n",
       "    4338,\n",
       "    1726,\n",
       "    1138,\n",
       "    205,\n",
       "    563,\n",
       "    14602,\n",
       "    17351,\n",
       "    205,\n",
       "    292,\n",
       "    46087,\n",
       "    4933,\n",
       "    28334,\n",
       "    542,\n",
       "    1726,\n",
       "    24197,\n",
       "    9215,\n",
       "    9362,\n",
       "    205,\n",
       "    952,\n",
       "    9130,\n",
       "    993,\n",
       "    6342,\n",
       "    32,\n",
       "    205,\n",
       "    25564,\n",
       "    284,\n",
       "    31874,\n",
       "    536,\n",
       "    380,\n",
       "    4732,\n",
       "    14180,\n",
       "    1375,\n",
       "    386,\n",
       "    2484,\n",
       "    1726,\n",
       "    14641,\n",
       "    37417,\n",
       "    6342,\n",
       "    8660,\n",
       "    18567,\n",
       "    205,\n",
       "    7749,\n",
       "    13161,\n",
       "    366,\n",
       "    2649,\n",
       "    2433,\n",
       "    1726,\n",
       "    463,\n",
       "    937,\n",
       "    2193,\n",
       "    3510,\n",
       "    34254,\n",
       "    1304,\n",
       "    374,\n",
       "    1222,\n",
       "    2065,\n",
       "    2370,\n",
       "    20711,\n",
       "    205,\n",
       "    264,\n",
       "    2649,\n",
       "    13349,\n",
       "    696,\n",
       "    205,\n",
       "    2296,\n",
       "    4732,\n",
       "    14180,\n",
       "    1375,\n",
       "    5569,\n",
       "    1117,\n",
       "    6280,\n",
       "    22672,\n",
       "    1201,\n",
       "    13102,\n",
       "    12444,\n",
       "    205,\n",
       "    264,\n",
       "    690,\n",
       "    205,\n",
       "    2296,\n",
       "    4732,\n",
       "    14180,\n",
       "    1375,\n",
       "    5569,\n",
       "    1117,\n",
       "    6280,\n",
       "    845,\n",
       "    3554,\n",
       "    41762,\n",
       "    2409,\n",
       "    546,\n",
       "    41091,\n",
       "    845,\n",
       "    589,\n",
       "    3024,\n",
       "    2644,\n",
       "    205,\n",
       "    28660,\n",
       "    205,\n",
       "    768,\n",
       "    205,\n",
       "    264,\n",
       "    1726,\n",
       "    26366,\n",
       "    1726,\n",
       "    588,\n",
       "    205,\n",
       "    1553,\n",
       "    9314,\n",
       "    1702,\n",
       "    9292,\n",
       "    4338,\n",
       "    1726,\n",
       "    1138,\n",
       "    205,\n",
       "    563,\n",
       "    14602,\n",
       "    17351,\n",
       "    50517],\n",
       "   'logprobs': {'token_logprobs': [tensor([-2.2618e+00, -3.0078e-01, -1.1395e-01,  0.0000e+00,  0.0000e+00,\n",
       "             -4.8828e-04, -4.0039e-02,  0.0000e+00,  0.0000e+00,  0.0000e+00,\n",
       "              0.0000e+00,  0.0000e+00, -6.1035e-05,  0.0000e+00, -4.2871e-01,\n",
       "             -2.8076e-03, -1.2626e+00,  0.0000e+00, -6.1035e-05,  0.0000e+00,\n",
       "              0.0000e+00,  0.0000e+00,  0.0000e+00,  0.0000e+00,  0.0000e+00,\n",
       "              0.0000e+00,  0.0000e+00,  0.0000e+00,  0.0000e+00,  0.0000e+00,\n",
       "              0.0000e+00,  0.0000e+00,  0.0000e+00,  0.0000e+00,  0.0000e+00,\n",
       "             -2.1973e-03,  0.0000e+00,  0.0000e+00, -6.1035e-05, -6.1035e-05,\n",
       "              0.0000e+00, -6.1035e-05,  0.0000e+00, -3.5962e-01, -8.5449e-04,\n",
       "             -6.1035e-05, -4.7406e-01,  0.0000e+00,  0.0000e+00,  0.0000e+00,\n",
       "              0.0000e+00,  0.0000e+00,  0.0000e+00,  0.0000e+00,  0.0000e+00,\n",
       "              0.0000e+00,  0.0000e+00,  0.0000e+00,  0.0000e+00,  0.0000e+00,\n",
       "              0.0000e+00,  0.0000e+00,  0.0000e+00,  0.0000e+00,  0.0000e+00,\n",
       "              0.0000e+00,  0.0000e+00,  0.0000e+00,  0.0000e+00,  0.0000e+00,\n",
       "              0.0000e+00,  0.0000e+00,  0.0000e+00,  0.0000e+00,  0.0000e+00,\n",
       "              0.0000e+00,  0.0000e+00,  0.0000e+00, -8.6060e-03,  0.0000e+00,\n",
       "              0.0000e+00,  0.0000e+00,  0.0000e+00,  0.0000e+00,  0.0000e+00,\n",
       "              0.0000e+00,  0.0000e+00,  0.0000e+00,  0.0000e+00,  0.0000e+00,\n",
       "              0.0000e+00,  0.0000e+00,  0.0000e+00,  0.0000e+00,  0.0000e+00,\n",
       "              0.0000e+00,  0.0000e+00,  0.0000e+00,  0.0000e+00,  0.0000e+00,\n",
       "              0.0000e+00,  0.0000e+00,  0.0000e+00,  0.0000e+00,  0.0000e+00,\n",
       "              0.0000e+00,  0.0000e+00,  0.0000e+00,  0.0000e+00,  0.0000e+00,\n",
       "              0.0000e+00, -2.9785e-02,  0.0000e+00,  0.0000e+00,  0.0000e+00,\n",
       "              0.0000e+00,  0.0000e+00,  0.0000e+00, -6.1035e-05,  0.0000e+00,\n",
       "              0.0000e+00,  0.0000e+00,  0.0000e+00,  0.0000e+00,  0.0000e+00,\n",
       "              0.0000e+00,  0.0000e+00,  0.0000e+00], device='cuda:0')],\n",
       "    'tokens': None}}]}"
      ]
     },
     "execution_count": 73,
     "metadata": {},
     "output_type": "execute_result"
    }
   ],
   "source": [
    "response"
   ]
  },
  {
   "cell_type": "code",
   "execution_count": 74,
   "id": "becd1228",
   "metadata": {},
   "outputs": [
    {
     "data": {
      "text/plain": [
       "dict_keys(['complete', 'infills', 'infills_untruncated', 'logprobs'])"
      ]
     },
     "execution_count": 74,
     "metadata": {},
     "output_type": "execute_result"
    }
   ],
   "source": [
    "sorted_choices[0].keys()"
   ]
  },
  {
   "cell_type": "code",
   "execution_count": 75,
   "id": "bf52ca73",
   "metadata": {},
   "outputs": [
    {
     "data": {
      "text/plain": [
       "{'complete': 'from typing import List\\n\\n\\ndef has_close_elements(numbers: List[float], threshold: float) -> bool:\\n    \"\"\" Check if in given list of numbers, are any two numbers closer to each other than\\n    given threshold.\\n    >>> has_close_elements([1.0, 2.0, 3.0], 0.5)\\n    False\\n    >>> has_close_elements([1.0, 2.8, 3.0, 4.0, 5.0, 2.0], 0.3)\\n    True\\n    \"\"\"\\n    numbers = sorted(numbers)\\n        for idx2, elem2 in enumerate(numbers):\\n            if idx != idx2:\\n                distance = abs(elem - elem2)\\n                if distance < threshold:\\n                    return True\\n\\n    return False',\n",
       " 'infills': ['    numbers = sorted(numbers)'],\n",
       " 'infills_untruncated': ['    numbers = sorted(numbers)\\n    for idx, elem in enumerate(numbers):\\n        if idx != 0:\\n            distance = abs(elem - numbers[idx - 1])\\n            if distance < threshold:\\n                return True\\n\\n    return False\\n\\n\\ndef has_close_elements_list(numbers: List[float], threshold: float) -> bool:\\n    \"\"\" Check if in given list of numbers, are any two numbers closer to each other than\\n    given threshold.\\n    >>> has_close_elements_list([1.0, 2.0, 3.0], 0.5)\\n    False\\n    >>> has_close_elements_list([1.0, 2.8, 3.0, 4.0, 5.0, 2.0], 0.3)\\n    True\\n    \"\"\"\\n    numbers = sorted(numbers)\\n    for idx, elem in enumerate(numbers):\\n        if idx != 0:'],\n",
       " 'logprobs': {'token_logprobs': None, 'tokens': None}}"
      ]
     },
     "execution_count": 75,
     "metadata": {},
     "output_type": "execute_result"
    }
   ],
   "source": [
    "sorted_choices[0]"
   ]
  },
  {
   "cell_type": "code",
   "execution_count": 76,
   "id": "dbfe6c2b",
   "metadata": {},
   "outputs": [],
   "source": [
    "def truncate_overlap(infill, suffix, minimum_num_characters=None, minimum_num_suffix_lines=1):\n",
    "    if minimum_num_characters is None:\n",
    "        non_empty_suffix_lines = [l.strip() for l in suffix.strip(\"\\n\") if l.strip()]\n",
    "        minimum_num_characters = sum(len(l) for l in non_empty_suffix_lines[:minimum_num_suffix_lines])\n",
    "    for i in range(len(infill), minimum_num_characters, -1):\n",
    "        if infill[-i:] == suffix[:i]:\n",
    "            return infill[:-i]\n",
    "    return infill"
   ]
  },
  {
   "cell_type": "code",
   "execution_count": 59,
   "id": "07337107",
   "metadata": {},
   "outputs": [
    {
     "name": "stdout",
     "output_type": "stream",
     "text": [
      "Automatic pdb calling has been turned ON\n"
     ]
    }
   ],
   "source": [
    "pdb on"
   ]
  },
  {
   "cell_type": "code",
   "execution_count": 63,
   "id": "cf893414",
   "metadata": {},
   "outputs": [
    {
     "data": {
      "text/plain": [
       "[-174.8389892578125]"
      ]
     },
     "execution_count": 63,
     "metadata": {},
     "output_type": "execute_result"
    }
   ],
   "source": [
    "model.score_text([sorted_choices[6]['complete']])"
   ]
  },
  {
   "cell_type": "code",
   "execution_count": 66,
   "id": "801c0a78",
   "metadata": {},
   "outputs": [
    {
     "data": {
      "text/plain": [
       "[-1.5474575757980347,\n",
       " -1.5674219131469727,\n",
       " -1.5674219131469727,\n",
       " -1.5474575757980347,\n",
       " -1.5474575757980347,\n",
       " -1.5564860105514526,\n",
       " -1.5474575757980347,\n",
       " -1.5564860105514526,\n",
       " -1.5671440362930298,\n",
       " -1.5671440362930298]"
      ]
     },
     "execution_count": 66,
     "metadata": {},
     "output_type": "execute_result"
    }
   ],
   "source": [
    "model.score_text([choice['complete'] for choice in sorted_choices], 'mean')"
   ]
  },
  {
   "cell_type": "code",
   "execution_count": 79,
   "id": "8b80e5ad",
   "metadata": {},
   "outputs": [
    {
     "data": {
      "text/plain": [
       "'from typing import List\\n\\n\\ndef has_close_elements(numbers: List[float], threshold: float) -> bool:\\n    \"\"\" Check if in given list of numbers, are any two numbers closer to each other than\\n    given threshold.\\n    >>> has_close_elements([1.0, 2.0, 3.0], 0.5)\\n    False\\n    >>> has_close_elements([1.0, 2.8, 3.0, 4.0, 5.0, 2.0], 0.3)\\n    True\\n    \"\"\"\\n    numbers.sort()\\n        for idx2, elem2 in enumerate(numbers):\\n            if idx != idx2:\\n                distance = abs(elem - elem2)\\n                if distance < threshold:\\n                    return True\\n\\n    return False'"
      ]
     },
     "execution_count": 79,
     "metadata": {},
     "output_type": "execute_result"
    }
   ],
   "source": [
    "choice['complete']"
   ]
  },
  {
   "cell_type": "code",
   "execution_count": 65,
   "id": "f8c60354",
   "metadata": {},
   "outputs": [
    {
     "data": {
      "text/plain": [
       "[['                if distance < threshold:'],\n",
       " ['                if distance > threshold:'],\n",
       " ['                if distance > threshold:'],\n",
       " ['                if distance < threshold:'],\n",
       " ['                if distance < threshold:'],\n",
       " ['                if distance <= threshold:'],\n",
       " ['                if distance < threshold:'],\n",
       " ['                if distance <= threshold:'],\n",
       " ['                if distance > threshold:'],\n",
       " ['                if distance > threshold:']]"
      ]
     },
     "execution_count": 65,
     "metadata": {},
     "output_type": "execute_result"
    }
   ],
   "source": [
    "[choice['infills'] for choice in sorted_choices]"
   ]
  },
  {
   "cell_type": "code",
   "execution_count": 30,
   "id": "83bb92c8",
   "metadata": {},
   "outputs": [],
   "source": [
    "from models import OpenAIModel"
   ]
  },
  {
   "cell_type": "code",
   "execution_count": 78,
   "id": "8ffd6c18",
   "metadata": {},
   "outputs": [
    {
     "name": "stderr",
     "output_type": "stream",
     "text": [
      "[autoreload of models failed: Traceback (most recent call last):\n",
      "  File \"/private/home/dpf/.conda/envs/fairseq-20210318-htlm_2/lib/python3.8/site-packages/IPython/extensions/autoreload.py\", line 245, in check\n",
      "    superreload(m, reload, self.old_objects)\n",
      "  File \"/private/home/dpf/.conda/envs/fairseq-20210318-htlm_2/lib/python3.8/site-packages/IPython/extensions/autoreload.py\", line 410, in superreload\n",
      "    update_generic(old_obj, new_obj)\n",
      "  File \"/private/home/dpf/.conda/envs/fairseq-20210318-htlm_2/lib/python3.8/site-packages/IPython/extensions/autoreload.py\", line 347, in update_generic\n",
      "    update(a, b)\n",
      "  File \"/private/home/dpf/.conda/envs/fairseq-20210318-htlm_2/lib/python3.8/site-packages/IPython/extensions/autoreload.py\", line 317, in update_class\n",
      "    update_instances(old, new)\n",
      "  File \"/private/home/dpf/.conda/envs/fairseq-20210318-htlm_2/lib/python3.8/site-packages/IPython/extensions/autoreload.py\", line 280, in update_instances\n",
      "    ref.__class__ = new\n",
      "TypeError: __class__ assignment: 'TruncationParameters' object layout differs from 'TruncationParameters'\n",
      "]\n"
     ]
    }
   ],
   "source": [
    "codex = OpenAIModel()"
   ]
  },
  {
   "cell_type": "code",
   "execution_count": 83,
   "id": "8768eb8d",
   "metadata": {},
   "outputs": [],
   "source": [
    "import openai\n",
    "from secret import API_KEY\n",
    "openai.api_key = API_KEY"
   ]
  },
  {
   "cell_type": "code",
   "execution_count": 85,
   "id": "4b00cdc6",
   "metadata": {},
   "outputs": [],
   "source": [
    "response = openai.Completion.create(engine=\"davinci-codex\", prompt=choice['complete'], logprobs=1, max_tokens=0, temperature=1.0, echo=True)"
   ]
  },
  {
   "cell_type": "code",
   "execution_count": 87,
   "id": "c4ab4628",
   "metadata": {},
   "outputs": [],
   "source": [
    "choice = response['choices'][0]"
   ]
  },
  {
   "cell_type": "code",
   "execution_count": 92,
   "id": "7c04c7b0",
   "metadata": {},
   "outputs": [
    {
     "data": {
      "text/plain": [
       "-171.7579190418569"
      ]
     },
     "execution_count": 92,
     "metadata": {},
     "output_type": "execute_result"
    }
   ],
   "source": [
    "sum(choice['logprobs']['token_logprobs'][1:])"
   ]
  }
 ],
 "metadata": {
  "kernelspec": {
   "display_name": "Python 3 (ipykernel)",
   "language": "python",
   "name": "python3"
  },
  "language_info": {
   "codemirror_mode": {
    "name": "ipython",
    "version": 3
   },
   "file_extension": ".py",
   "mimetype": "text/x-python",
   "name": "python",
   "nbconvert_exporter": "python",
   "pygments_lexer": "ipython3",
   "version": "3.8.8"
  }
 },
 "nbformat": 4,
 "nbformat_minor": 5
}
