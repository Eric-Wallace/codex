{
 "cells": [
  {
   "cell_type": "code",
   "execution_count": 1,
   "id": "a79d3ef6",
   "metadata": {},
   "outputs": [
    {
     "data": {
      "text/plain": [
       "'/private/home/dpf/projects/htlm_2/fairseq-py/notebooks'"
      ]
     },
     "execution_count": 1,
     "metadata": {},
     "output_type": "execute_result"
    }
   ],
   "source": [
    "pwd"
   ]
  },
  {
   "cell_type": "code",
   "execution_count": 2,
   "id": "834122e1",
   "metadata": {},
   "outputs": [
    {
     "data": {
      "text/plain": [
       "'/private/home/dpf/projects/htlm_2/fairseq-py/notebooks'"
      ]
     },
     "execution_count": 2,
     "metadata": {},
     "output_type": "execute_result"
    }
   ],
   "source": [
    "pwd"
   ]
  },
  {
   "cell_type": "code",
   "execution_count": 3,
   "id": "29e67630",
   "metadata": {},
   "outputs": [],
   "source": [
    "temperature = 0.8\n",
    "root_folder = f'/private/home/dpf/projects/codex/'\n",
    "globs = f'out/cm-6B_it-best_ncg-20-1_temp-{temperature}/prompt-pyfile_s-*/responses.pkl'"
   ]
  },
  {
   "cell_type": "code",
   "execution_count": 4,
   "id": "6235d585",
   "metadata": {},
   "outputs": [],
   "source": [
    "import sys"
   ]
  },
  {
   "cell_type": "code",
   "execution_count": 5,
   "id": "f3468a9c",
   "metadata": {},
   "outputs": [],
   "source": [
    "sys.path.append(root_folder)"
   ]
  },
  {
   "cell_type": "code",
   "execution_count": 6,
   "id": "883f5c2c",
   "metadata": {},
   "outputs": [],
   "source": [
    "import glob\n",
    "import pickle\n",
    "import os"
   ]
  },
  {
   "cell_type": "code",
   "execution_count": 7,
   "id": "a03b9f4f",
   "metadata": {
    "scrolled": true
   },
   "outputs": [
    {
     "name": "stderr",
     "output_type": "stream",
     "text": [
      "couldn't import torch; won't be able to use most models\n"
     ]
    }
   ],
   "source": [
    "from models import Model"
   ]
  },
  {
   "cell_type": "code",
   "execution_count": 8,
   "id": "2111ebdd",
   "metadata": {},
   "outputs": [],
   "source": [
    "import numpy as np"
   ]
  },
  {
   "cell_type": "code",
   "execution_count": 9,
   "id": "107cd1d2",
   "metadata": {},
   "outputs": [],
   "source": [
    "from human_eval.data import read_problems\n",
    "from human_eval.evaluation import evaluate_functional_correctness"
   ]
  },
  {
   "cell_type": "code",
   "execution_count": 10,
   "id": "13750029",
   "metadata": {},
   "outputs": [],
   "source": [
    "def unpickle(fname):\n",
    "    print(fname)\n",
    "    with open(fname, 'rb') as f:\n",
    "        return pickle.load(f)"
   ]
  },
  {
   "cell_type": "code",
   "execution_count": 11,
   "id": "8166d4ab",
   "metadata": {},
   "outputs": [],
   "source": [
    "def all_equal(xs):\n",
    "    xs = list(xs)\n",
    "    return [x == xs[0] for x in xs]"
   ]
  },
  {
   "cell_type": "code",
   "execution_count": 12,
   "id": "7c84540e",
   "metadata": {},
   "outputs": [],
   "source": [
    "def combine_responses(list_of_responses):\n",
    "    list_of_responses = list(list_of_responses)\n",
    "    assert all_equal(resp.keys() for resp in list_of_responses)\n",
    "    responses = {}\n",
    "    for resp in list_of_responses:\n",
    "        for problem_id in resp:\n",
    "            if problem_id not in responses:\n",
    "                responses[problem_id] = {'choices': []}\n",
    "            responses[problem_id]['choices'].extend(resp[problem_id]['choices'])\n",
    "    return responses"
   ]
  },
  {
   "cell_type": "code",
   "execution_count": 13,
   "id": "b1447000",
   "metadata": {},
   "outputs": [
    {
     "name": "stdout",
     "output_type": "stream",
     "text": [
      "Automatic pdb calling has been turned ON\n"
     ]
    }
   ],
   "source": [
    "pdb on"
   ]
  },
  {
   "cell_type": "code",
   "execution_count": 14,
   "id": "3c53bf02",
   "metadata": {},
   "outputs": [
    {
     "name": "stdout",
     "output_type": "stream",
     "text": [
      "/private/home/dpf/projects/codex/out/cm-6B_it-best_ncg-20-1_temp-0.8/prompt-pyfile_s-3/responses.pkl\n",
      "/private/home/dpf/projects/codex/out/cm-6B_it-best_ncg-20-1_temp-0.8/prompt-pyfile_s-4/responses.pkl\n",
      "/private/home/dpf/projects/codex/out/cm-6B_it-best_ncg-20-1_temp-0.8/prompt-pyfile_s-10/responses.pkl\n",
      "/private/home/dpf/projects/codex/out/cm-6B_it-best_ncg-20-1_temp-0.8/prompt-pyfile_s-5/responses.pkl\n",
      "/private/home/dpf/projects/codex/out/cm-6B_it-best_ncg-20-1_temp-0.8/prompt-pyfile_s-6/responses.pkl\n",
      "/private/home/dpf/projects/codex/out/cm-6B_it-best_ncg-20-1_temp-0.8/prompt-pyfile_s-7/responses.pkl\n",
      "/private/home/dpf/projects/codex/out/cm-6B_it-best_ncg-20-1_temp-0.8/prompt-pyfile_s-8/responses.pkl\n",
      "/private/home/dpf/projects/codex/out/cm-6B_it-best_ncg-20-1_temp-0.8/prompt-pyfile_s-1/responses.pkl\n",
      "/private/home/dpf/projects/codex/out/cm-6B_it-best_ncg-20-1_temp-0.8/prompt-pyfile_s-9/responses.pkl\n",
      "/private/home/dpf/projects/codex/out/cm-6B_it-best_ncg-20-1_temp-0.8/prompt-pyfile_s-2/responses.pkl\n"
     ]
    }
   ],
   "source": [
    "responses = combine_responses(\n",
    "    unpickle(fname) for fname in glob.glob(os.path.join(root_folder, globs))\n",
    ")"
   ]
  },
  {
   "cell_type": "code",
   "execution_count": 15,
   "id": "8eabb65b",
   "metadata": {},
   "outputs": [
    {
     "data": {
      "text/plain": [
       "200"
      ]
     },
     "execution_count": 15,
     "metadata": {},
     "output_type": "execute_result"
    }
   ],
   "source": [
    "len(next(iter(responses.values()))['choices'])"
   ]
  },
  {
   "cell_type": "code",
   "execution_count": 16,
   "id": "b72c2a6b",
   "metadata": {},
   "outputs": [
    {
     "data": {
      "text/plain": [
       "200"
      ]
     },
     "execution_count": 16,
     "metadata": {},
     "output_type": "execute_result"
    }
   ],
   "source": [
    "len(next(iter(responses.values()))['choices'])"
   ]
  },
  {
   "cell_type": "code",
   "execution_count": 17,
   "id": "2cd9bc4c",
   "metadata": {},
   "outputs": [],
   "source": [
    "model = Model()"
   ]
  },
  {
   "cell_type": "code",
   "execution_count": 18,
   "id": "b717f987",
   "metadata": {},
   "outputs": [],
   "source": [
    "problems = list(sorted(read_problems().items()))"
   ]
  },
  {
   "cell_type": "code",
   "execution_count": 19,
   "id": "ce6fad10",
   "metadata": {},
   "outputs": [],
   "source": [
    "import random"
   ]
  },
  {
   "cell_type": "code",
   "execution_count": 20,
   "id": "e1d4b690",
   "metadata": {},
   "outputs": [],
   "source": [
    "def run_trial(responses, num_candidates, candidate_scoring):\n",
    "    samples_to_evaluate = []\n",
    "    for task_id, problem in problems:\n",
    "        candidates = responses[task_id]['choices'].copy()\n",
    "        random.shuffle(candidates)\n",
    "        candidates = candidates[:num_candidates]\n",
    "        completions, response = model.rank_completions(\n",
    "            problem['prompt'], None, \n",
    "            cached_response={'choices': candidates},\n",
    "            scoring=candidate_scoring,\n",
    "        )\n",
    "        best_score, best_candidate = completions[0]\n",
    "        samples_to_evaluate.append(dict(\n",
    "            task_id=task_id,\n",
    "            completion=best_candidate\n",
    "        ))\n",
    "    return evaluate_functional_correctness(\n",
    "        sample_file=None, samples=samples_to_evaluate,\n",
    "        n_workers=4, suppress=True,\n",
    "    )"
   ]
  },
  {
   "cell_type": "code",
   "execution_count": 21,
   "id": "981ca050",
   "metadata": {},
   "outputs": [],
   "source": [
    "def compute_oracle_scores(responses, all_num_candidates):\n",
    "    samples_to_evaluate = []\n",
    "    for task_id, problem in problems:\n",
    "        choices = responses[task_id]['choices']\n",
    "        assert max(all_num_candidates) <= len(choices), f\"can't compute oracle; too few candidates ({len(choices)}) for id {task_id}\"\n",
    "        for choice in choices:\n",
    "            samples_to_evaluate.append(dict(\n",
    "                task_id=task_id, \n",
    "                completion=choice['text']\n",
    "            ))\n",
    "    results, extra = evaluate_functional_correctness(\n",
    "        sample_file=None, samples=samples_to_evaluate,\n",
    "        n_workers=20, suppress=False,\n",
    "    )\n",
    "    datapoints = []\n",
    "    for num_candidates in all_num_candidates:\n",
    "        datapoints.append({\n",
    "            'num_candidates': num_candidates,\n",
    "            'candidate_scoring': 'oracle',\n",
    "            'pass@1': results[f'pass@{num_candidates}'],\n",
    "        })\n",
    "    return datapoints"
   ]
  },
  {
   "cell_type": "code",
   "execution_count": 22,
   "id": "fd3a94d9",
   "metadata": {},
   "outputs": [
    {
     "name": "stderr",
     "output_type": "stream",
     "text": [
      "100%|███████████████████████████████████████████████████████████████████████████████████████| 32800/32800 [00:02<00:00, 16308.82it/s]\n"
     ]
    },
    {
     "name": "stdout",
     "output_type": "stream",
     "text": [
      "Running test suites...\n"
     ]
    },
    {
     "name": "stderr",
     "output_type": "stream",
     "text": [
      "100%|██████████████████████████████████████████████████████████████████████████████████████████| 32800/32800 [13:26<00:00, 40.69it/s]\n"
     ]
    }
   ],
   "source": [
    "datapoints = compute_oracle_scores(responses, [1, 10, 100])"
   ]
  },
  {
   "cell_type": "code",
   "execution_count": 23,
   "id": "a4d759d3",
   "metadata": {},
   "outputs": [
    {
     "data": {
      "text/plain": [
       "[1, 2, 5, 10, 20, 50, 100]"
      ]
     },
     "execution_count": 23,
     "metadata": {},
     "output_type": "execute_result"
    }
   ],
   "source": [
    "# all_num_candidates = list(np.arange(9) + 1) + list((np.arange(10) + 1) * 10)\n",
    "#all_num_candidates = [1, 10, 100]\n",
    "all_num_candidates = [1, 2, 5, 10, 20, 50, 100]\n",
    "all_num_candidates"
   ]
  },
  {
   "cell_type": "code",
   "execution_count": 24,
   "id": "1be8833b",
   "metadata": {},
   "outputs": [],
   "source": [
    "from itertools import product"
   ]
  },
  {
   "cell_type": "code",
   "execution_count": 30,
   "id": "7a7d34c3",
   "metadata": {},
   "outputs": [
    {
     "name": "stderr",
     "output_type": "stream",
     "text": [
      "100%|████████████████████████████████████████████████████████████████████████████████████████████████| 63/63 [04:42<00:00,  4.48s/it]\n"
     ]
    }
   ],
   "source": [
    "all_extras = {}\n",
    "def log_trial(tpl):\n",
    "    scoring_method, num_candidates, trial = tpl\n",
    "    result, extras = run_trial(responses, num_candidates, scoring_method)\n",
    "    result['num_candidates'] = num_candidates\n",
    "    result['candidate_scoring'] = scoring_method\n",
    "    result['trial'] = trial\n",
    "    all_extras[tuple(tpl)] = extras\n",
    "    return result\n",
    "\n",
    "scoring_methods = ['sum', 'mean', 'random']\n",
    "trials = list(range(3))\n",
    "\n",
    "from multiprocessing.pool import ThreadPool\n",
    "import tqdm\n",
    "with ThreadPool(5) as pool:\n",
    "    it = list(product(scoring_methods, all_num_candidates, trials))\n",
    "    results = tqdm.tqdm(pool.imap(log_trial, it), total=len(it))\n",
    "    datapoints.extend(results)"
   ]
  },
  {
   "cell_type": "code",
   "execution_count": 31,
   "id": "59dfba72",
   "metadata": {},
   "outputs": [],
   "source": [
    "import pandas"
   ]
  },
  {
   "cell_type": "code",
   "execution_count": 32,
   "id": "4119e3a1",
   "metadata": {},
   "outputs": [],
   "source": [
    "df = pandas.DataFrame(datapoints)"
   ]
  },
  {
   "cell_type": "code",
   "execution_count": 33,
   "id": "c06feaa6",
   "metadata": {},
   "outputs": [
    {
     "data": {
      "text/plain": [
       "Index(['num_candidates', 'candidate_scoring', 'pass@1', 'trial'], dtype='object')"
      ]
     },
     "execution_count": 33,
     "metadata": {},
     "output_type": "execute_result"
    }
   ],
   "source": [
    "df.columns"
   ]
  },
  {
   "cell_type": "code",
   "execution_count": 34,
   "id": "af7df8ae",
   "metadata": {},
   "outputs": [],
   "source": [
    "means = df.groupby(['num_candidates','candidate_scoring'])['pass@1'].mean()"
   ]
  },
  {
   "cell_type": "code",
   "execution_count": 35,
   "id": "d17551ae",
   "metadata": {},
   "outputs": [],
   "source": [
    "import matplotlib.pyplot as plt"
   ]
  },
  {
   "cell_type": "code",
   "execution_count": 38,
   "id": "4e9477fc",
   "metadata": {},
   "outputs": [
    {
     "data": {
      "text/plain": [
       "<matplotlib.lines.Line2D at 0x7fa0d7e2d490>"
      ]
     },
     "execution_count": 38,
     "metadata": {},
     "output_type": "execute_result"
    },
    {
     "data": {
      "image/png": "[encoded data removed]",
      "text/plain": [
       "<Figure size 432x288 with 1 Axes>"
      ]
     },
     "metadata": {
      "needs_background": "light"
     },
     "output_type": "display_data"
    }
   ],
   "source": [
    "r = means.reset_index()\n",
    "ax = None\n",
    "for scoring, color in [('oracle', 'b'), ('sum', 'g'), ('mean', 'r'), ('random', 'purple')]:\n",
    "    col = r[r['candidate_scoring'] == scoring]\n",
    "    ax = col.plot(\n",
    "        x='num_candidates', y='pass@1', color=color, label=scoring, logx=True,\n",
    "        ax=ax,\n",
    "    )\n",
    "plt.legend()\n",
    "plt.xlabel('Number of samples')\n",
    "plt.ylabel('Pass Rate')\n",
    "plt.axhline(0.153, c='k', linestyle=':')"
   ]
  },
  {
   "cell_type": "code",
   "execution_count": 48,
   "id": "5014f868",
   "metadata": {},
   "outputs": [],
   "source": [
    "from collections import defaultdict"
   ]
  },
  {
   "cell_type": "code",
   "execution_count": 46,
   "id": "851a6f68",
   "metadata": {},
   "outputs": [],
   "source": [
    "def pool_by_problem(all_extras, filter_fn=None):\n",
    "    completion_lengths_by_problem = defaultdict(list)\n",
    "    for tpl, d in all_extras.items():\n",
    "        if filter_fn is not None and not filter_fn(tpl):\n",
    "            continue\n",
    "        for k, vs in d['completion_lengths'].items():\n",
    "            completion_lengths_by_problem[k].extend(vs)\n",
    "    return completion_lengths_by_problem"
   ]
  },
  {
   "cell_type": "code",
   "execution_count": 52,
   "id": "5e37ae58",
   "metadata": {},
   "outputs": [
    {
     "data": {
      "text/plain": [
       "312.78290747193194"
      ]
     },
     "execution_count": 52,
     "metadata": {},
     "output_type": "execute_result"
    }
   ],
   "source": [
    "np.mean(list({k: np.mean(v) for k, v in pool_by_problem(all_extras).items()}.values()))"
   ]
  },
  {
   "cell_type": "code",
   "execution_count": 56,
   "id": "3e9783b1",
   "metadata": {},
   "outputs": [
    {
     "data": {
      "text/plain": [
       "315.7073170731707"
      ]
     },
     "execution_count": 56,
     "metadata": {},
     "output_type": "execute_result"
    }
   ],
   "source": [
    "np.mean(list({k: np.mean(v) for k, v in pool_by_problem(all_extras, filter_fn=lambda t: t[0] == 'random' and t[1] == 100).items()}.values()))"
   ]
  },
  {
   "cell_type": "code",
   "execution_count": 57,
   "id": "51de128f",
   "metadata": {},
   "outputs": [
    {
     "data": {
      "text/plain": [
       "69.90650406504065"
      ]
     },
     "execution_count": 57,
     "metadata": {},
     "output_type": "execute_result"
    }
   ],
   "source": [
    "np.mean(list({k: np.mean(v) for k, v in pool_by_problem(all_extras, filter_fn=lambda t: t[0] == 'sum' and t[1] == 100).items()}.values()))"
   ]
  },
  {
   "cell_type": "code",
   "execution_count": 58,
   "id": "387b66ed",
   "metadata": {},
   "outputs": [
    {
     "data": {
      "text/plain": [
       "728.3983739837398"
      ]
     },
     "execution_count": 58,
     "metadata": {},
     "output_type": "execute_result"
    }
   ],
   "source": [
    "np.mean(list({k: np.mean(v) for k, v in pool_by_problem(all_extras, filter_fn=lambda t: t[0] == 'mean' and t[1] == 100).items()}.values()))"
   ]
  }
 ],
 "metadata": {
  "kernelspec": {
   "display_name": "Python 3 (ipykernel)",
   "language": "python",
   "name": "python3"
  },
  "language_info": {
   "codemirror_mode": {
    "name": "ipython",
    "version": 3
   },
   "file_extension": ".py",
   "mimetype": "text/x-python",
   "name": "python",
   "nbconvert_exporter": "python",
   "pygments_lexer": "ipython3",
   "version": "3.8.12"
  }
 },
 "nbformat": 4,
 "nbformat_minor": 5
}
